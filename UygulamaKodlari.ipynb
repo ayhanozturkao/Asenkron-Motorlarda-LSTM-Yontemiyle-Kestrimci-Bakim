{
 "cells": [
  {
   "cell_type": "code",
   "execution_count": 53,
   "id": "7b6dc0be",
   "metadata": {},
   "outputs": [],
   "source": [
    "import sys\n",
    "sys.path.append(\"..\")\n",
    "\n",
    "\n",
    "## from ustklasor.dosya import module ## UST KLASORU EKLEME"
   ]
  },
  {
   "cell_type": "code",
   "execution_count": 54,
   "id": "86c5a233",
   "metadata": {},
   "outputs": [],
   "source": [
    "# This Python 3 environment comes with many helpful analytics libraries installed\n",
    "# It is defined by the kaggle/python Docker image: https://github.com/kaggle/docker-python\n",
    "# For example, here's several helpful packages to load\n",
    "\n",
    "import numpy as np # linear algebra\n",
    "import pandas as pd # data processing, CSV file I/O (e.g. pd.read_csv)\n",
    "import tensorflow as tf\n",
    "from tensorflow.keras.callbacks import CSVLogger, EarlyStopping\n",
    "\n",
    "import matplotlib as mpl\n",
    "import matplotlib.pyplot as plt\n",
    "import numpy as np\n",
    "import os\n",
    "import pandas as pd\n",
    "import seaborn as sns\n",
    "import time\n",
    "\n",
    "\n",
    "import gc\n",
    "import sys\n",
    "# Input data files are available in the read-only \"../input/\" directory\n",
    "# For example, running this (by clicking run or pressing Shift+Enter) will list all files under the input directory\n",
    "\n",
    "import os\n",
    "for dirname, _, filenames in os.walk('/kaggle/input'):\n",
    "    for filename in filenames:\n",
    "        print(os.path.join(dirname, filename))\n",
    "\n",
    "# You can write up to 20GB to the current directory (/kaggle/working/) that gets preserved as output when you create a version using \"Save & Run All\" \n",
    "# You can also write temporary files to /kaggle/temp/, but they won't be saved outside of the current session\n",
    "\n",
    "\n",
    "# Merve Yuce KIZRAK Predictive Maintenance of Aircraft Motor Health with Long-Short Term Memory Method\n",
    "\n",
    "import keras\n",
    "import pandas as pd\n",
    "import numpy as np\n",
    "import matplotlib.pyplot as plt\n",
    "\n",
    "# Setting seed for reproducability \n",
    "# Çoğaltılabilirlik için seed ayarlama\n",
    "np.random.seed(1234)  \n",
    "PYTHONHASHSEED = 0\n",
    "from sklearn import preprocessing\n",
    "from sklearn.metrics import confusion_matrix, recall_score, precision_score\n",
    "from keras.models import Sequential,load_model\n",
    "from keras.layers import Dense, Dropout, LSTM, Activation\n",
    "\n",
    "%matplotlib inline\n",
    "\n",
    "import keras\n",
    "import keras.backend as K\n",
    "from keras.layers.core import Activation\n",
    "from tensorflow import keras\n"
   ]
  },
  {
   "cell_type": "code",
   "execution_count": 55,
   "id": "740cc7e9",
   "metadata": {},
   "outputs": [],
   "source": [
    "sequence_length = 8"
   ]
  },
  {
   "cell_type": "code",
   "execution_count": 56,
   "id": "2d407339",
   "metadata": {},
   "outputs": [],
   "source": [
    "# Bu pasif excel yerine serverdan alınıyor\n",
    "# data = pd.read_csv(\"data/14_PGM_6_OP_30_EZME_3_CA_B8_31_00_00_72_.csv\")\n",
    "# data.head()"
   ]
  },
  {
   "cell_type": "code",
   "execution_count": 57,
   "id": "dddce6b7",
   "metadata": {
    "scrolled": false
   },
   "outputs": [
    {
     "name": "stdout",
     "output_type": "stream",
     "text": [
      "Tek data dondu\n",
      "query calisti\n",
      " bulunan adet =  1076\n",
      "Datalar Bulundu\n",
      "OK sayisi 1063\n",
      "getjson except sayisi 13\n",
      "Machine ID = 9\n",
      "Machine Name =PGM_2_OP_30_HAZIRLAMA\n",
      "Recipe Number = 3\n",
      "veri adet =  1063\n",
      "veri adet-2 =  1063\n"
     ]
    }
   ],
   "source": [
    "import pandas as pd # data processing, CSV file I/O (e.g. pd.read_csv)\n",
    "from Mongo.A2_Olcum import OlcumAl,TekOlcumAl\n",
    "import datetime\n",
    "from os import chdir, mkdir, open,listdir, getcwd, path, rmdir,makedirs\n",
    "\n",
    "device = 'CA:B8:31:00:00:21'\n",
    "\n",
    "baslangic_tarih = str(datetime.datetime.combine(datetime.datetime.strptime(\"2023-06-01\", '%Y-%m-%d'), datetime.time(00, 00, 00)))\n",
    "bitis_tarih = str(datetime.datetime.combine(datetime.datetime.strptime(\"2023-10-03\", '%Y-%m-%d'), datetime.time(23, 59, 59)))  \n",
    "\n",
    "from_date = datetime.datetime.strptime(baslangic_tarih, '%Y-%m-%d %H:%M:%S')\n",
    "to_date = datetime.datetime.strptime(bitis_tarih, '%Y-%m-%d %H:%M:%S')\n",
    "\n",
    "# gateway var asagıda yok \n",
    "# veri,veriAdet=OlcumAl(gelen_collection=\"measurements\",gelen_query=dict({\"gateway\": gateway, \"device\": device,\"createdAt\": {\"$gte\": from_date, \"$lte\": to_date}}))\n",
    "\n",
    "df,dataList,dataAdet=OlcumAl(limitCount = 5000,gelen_collection=\"measurements\",gelen_query=dict({\"device\": device,\"createdAt\": {\"$gte\": from_date, \"$lte\": to_date}}))\n",
    "\n",
    "\n",
    "print(\"veri adet = \",dataAdet)\n",
    "\n",
    "print(\"veri adet-2 = \",len(dataList))\n",
    "\n",
    "data = df.copy()"
   ]
  },
  {
   "cell_type": "code",
   "execution_count": 58,
   "id": "d6368042",
   "metadata": {},
   "outputs": [
    {
     "name": "stdout",
     "output_type": "stream",
     "text": [
      "DataFrame is written to Excel File successfully.\n"
     ]
    }
   ],
   "source": [
    "datatoexcel = pd.ExcelWriter('datasetAllData.xlsx')\n",
    "df.to_excel(datatoexcel)\n",
    "datatoexcel.save()\n",
    "print('DataFrame is written to Excel File successfully.')"
   ]
  },
  {
   "cell_type": "code",
   "execution_count": 59,
   "id": "ecefef86",
   "metadata": {},
   "outputs": [],
   "source": [
    "data.index = pd.to_datetime(data[\"createdAt\"].squeeze(), format = \"%Y-%m-%dT%H:%M:%S.%fZ\")"
   ]
  },
  {
   "cell_type": "code",
   "execution_count": 60,
   "id": "0da2f166",
   "metadata": {},
   "outputs": [
    {
     "data": {
      "text/html": [
       "<div>\n",
       "<style scoped>\n",
       "    .dataframe tbody tr th:only-of-type {\n",
       "        vertical-align: middle;\n",
       "    }\n",
       "\n",
       "    .dataframe tbody tr th {\n",
       "        vertical-align: top;\n",
       "    }\n",
       "\n",
       "    .dataframe thead tr th {\n",
       "        text-align: left;\n",
       "    }\n",
       "\n",
       "    .dataframe thead tr:last-of-type th {\n",
       "        text-align: right;\n",
       "    }\n",
       "</style>\n",
       "<table border=\"1\" class=\"dataframe\">\n",
       "  <thead>\n",
       "    <tr>\n",
       "      <th></th>\n",
       "      <th>Id</th>\n",
       "      <th>createdAt</th>\n",
       "      <th>MEASUREMENT_START_TIME</th>\n",
       "      <th>MEASUREMENT_START_UNIXTIME</th>\n",
       "      <th>CHUNK_COUNT</th>\n",
       "      <th>CALIBRATED_SAMPLINGRATE</th>\n",
       "      <th>device</th>\n",
       "      <th>gateway</th>\n",
       "      <th>TEMPERATURE</th>\n",
       "      <th>CLEARANCE_1</th>\n",
       "      <th>...</th>\n",
       "      <th>PEAK_TO_PEAK_2</th>\n",
       "      <th>PEAK_TO_PEAK_3</th>\n",
       "      <th>0_Data</th>\n",
       "      <th>1_Data</th>\n",
       "      <th>3_Data</th>\n",
       "      <th>4_Data</th>\n",
       "      <th>5_Data</th>\n",
       "      <th>6_Data</th>\n",
       "      <th>7_Data</th>\n",
       "      <th>8_Data</th>\n",
       "    </tr>\n",
       "    <tr>\n",
       "      <th>(createdAt,)</th>\n",
       "      <th></th>\n",
       "      <th></th>\n",
       "      <th></th>\n",
       "      <th></th>\n",
       "      <th></th>\n",
       "      <th></th>\n",
       "      <th></th>\n",
       "      <th></th>\n",
       "      <th></th>\n",
       "      <th></th>\n",
       "      <th></th>\n",
       "      <th></th>\n",
       "      <th></th>\n",
       "      <th></th>\n",
       "      <th></th>\n",
       "      <th></th>\n",
       "      <th></th>\n",
       "      <th></th>\n",
       "      <th></th>\n",
       "      <th></th>\n",
       "      <th></th>\n",
       "    </tr>\n",
       "  </thead>\n",
       "  <tbody>\n",
       "    <tr>\n",
       "      <th>2023-06-08 17:37:08.269</th>\n",
       "      <td>648211c4ca5a4302b614aafa</td>\n",
       "      <td>2023-06-08T17:37:08.269000Z</td>\n",
       "      <td>09:34:22:04:01:1970</td>\n",
       "      <td>293659</td>\n",
       "      <td>1</td>\n",
       "      <td>821</td>\n",
       "      <td>CA:B8:31:00:00:21</td>\n",
       "      <td>CA:B8:28:00:00:82</td>\n",
       "      <td>33.08</td>\n",
       "      <td>7.05529</td>\n",
       "      <td>...</td>\n",
       "      <td>0.122803</td>\n",
       "      <td>0.181824</td>\n",
       "      <td>3.02</td>\n",
       "      <td>3.13</td>\n",
       "      <td>0.0</td>\n",
       "      <td>0.0</td>\n",
       "      <td>1.0</td>\n",
       "      <td>4108.42</td>\n",
       "      <td>102.0</td>\n",
       "      <td>NaN</td>\n",
       "    </tr>\n",
       "    <tr>\n",
       "      <th>2023-06-08 18:07:39.135</th>\n",
       "      <td>648218ebca5a4302b614ab07</td>\n",
       "      <td>2023-06-08T18:07:39.135000Z</td>\n",
       "      <td>10:04:53:04:01:1970</td>\n",
       "      <td>295490</td>\n",
       "      <td>1</td>\n",
       "      <td>821</td>\n",
       "      <td>CA:B8:31:00:00:21</td>\n",
       "      <td>CA:B8:28:00:00:82</td>\n",
       "      <td>35.01</td>\n",
       "      <td>6.796348</td>\n",
       "      <td>...</td>\n",
       "      <td>0.067017</td>\n",
       "      <td>0.064026</td>\n",
       "      <td>3.01</td>\n",
       "      <td>3.11</td>\n",
       "      <td>0.0</td>\n",
       "      <td>0.0</td>\n",
       "      <td>1.0</td>\n",
       "      <td>1830.88</td>\n",
       "      <td>102.0</td>\n",
       "      <td>NaN</td>\n",
       "    </tr>\n",
       "    <tr>\n",
       "      <th>2023-06-08 18:44:52.934</th>\n",
       "      <td>648221a4ca5a4302b614ab14</td>\n",
       "      <td>2023-06-08T18:44:52.934000Z</td>\n",
       "      <td>10:42:06:04:01:1970</td>\n",
       "      <td>297724</td>\n",
       "      <td>1</td>\n",
       "      <td>821</td>\n",
       "      <td>CA:B8:31:00:00:21</td>\n",
       "      <td>CA:B8:28:00:00:82</td>\n",
       "      <td>34.1</td>\n",
       "      <td>6.29363</td>\n",
       "      <td>...</td>\n",
       "      <td>0.067993</td>\n",
       "      <td>0.08606</td>\n",
       "      <td>3.17</td>\n",
       "      <td>3.31</td>\n",
       "      <td>0.0</td>\n",
       "      <td>0.0</td>\n",
       "      <td>1.0</td>\n",
       "      <td>2233.63</td>\n",
       "      <td>102.0</td>\n",
       "      <td>NaN</td>\n",
       "    </tr>\n",
       "    <tr>\n",
       "      <th>2023-06-08 19:23:21.574</th>\n",
       "      <td>64822aa9ca5a4302b614ab21</td>\n",
       "      <td>2023-06-08T19:23:21.574000Z</td>\n",
       "      <td>11:20:38:04:01:1970</td>\n",
       "      <td>300035</td>\n",
       "      <td>1</td>\n",
       "      <td>822</td>\n",
       "      <td>CA:B8:31:00:00:21</td>\n",
       "      <td>CA:B8:28:00:00:82</td>\n",
       "      <td>33.49</td>\n",
       "      <td>54.723382</td>\n",
       "      <td>...</td>\n",
       "      <td>0.16748</td>\n",
       "      <td>0.122253</td>\n",
       "      <td>3.16</td>\n",
       "      <td>3.28</td>\n",
       "      <td>0.0</td>\n",
       "      <td>0.0</td>\n",
       "      <td>1.0</td>\n",
       "      <td>2308.6</td>\n",
       "      <td>102.0</td>\n",
       "      <td>NaN</td>\n",
       "    </tr>\n",
       "    <tr>\n",
       "      <th>2023-06-08 19:54:24.846</th>\n",
       "      <td>648231f0ca5a4302b614ab2e</td>\n",
       "      <td>2023-06-08T19:54:24.846000Z</td>\n",
       "      <td>11:51:38:04:01:1970</td>\n",
       "      <td>301896</td>\n",
       "      <td>1</td>\n",
       "      <td>821</td>\n",
       "      <td>CA:B8:31:00:00:21</td>\n",
       "      <td>CA:B8:28:00:00:82</td>\n",
       "      <td>35.37</td>\n",
       "      <td>8.549123</td>\n",
       "      <td>...</td>\n",
       "      <td>0.082275</td>\n",
       "      <td>0.078735</td>\n",
       "      <td>3.22</td>\n",
       "      <td>3.4</td>\n",
       "      <td>0.0</td>\n",
       "      <td>0.0</td>\n",
       "      <td>1.0</td>\n",
       "      <td>1863.52</td>\n",
       "      <td>102.0</td>\n",
       "      <td>NaN</td>\n",
       "    </tr>\n",
       "  </tbody>\n",
       "</table>\n",
       "<p>5 rows × 44 columns</p>\n",
       "</div>"
      ],
      "text/plain": [
       "                                               Id  \\\n",
       "(createdAt,)                                        \n",
       "2023-06-08 17:37:08.269  648211c4ca5a4302b614aafa   \n",
       "2023-06-08 18:07:39.135  648218ebca5a4302b614ab07   \n",
       "2023-06-08 18:44:52.934  648221a4ca5a4302b614ab14   \n",
       "2023-06-08 19:23:21.574  64822aa9ca5a4302b614ab21   \n",
       "2023-06-08 19:54:24.846  648231f0ca5a4302b614ab2e   \n",
       "\n",
       "                                           createdAt MEASUREMENT_START_TIME  \\\n",
       "(createdAt,)                                                                  \n",
       "2023-06-08 17:37:08.269  2023-06-08T17:37:08.269000Z    09:34:22:04:01:1970   \n",
       "2023-06-08 18:07:39.135  2023-06-08T18:07:39.135000Z    10:04:53:04:01:1970   \n",
       "2023-06-08 18:44:52.934  2023-06-08T18:44:52.934000Z    10:42:06:04:01:1970   \n",
       "2023-06-08 19:23:21.574  2023-06-08T19:23:21.574000Z    11:20:38:04:01:1970   \n",
       "2023-06-08 19:54:24.846  2023-06-08T19:54:24.846000Z    11:51:38:04:01:1970   \n",
       "\n",
       "                        MEASUREMENT_START_UNIXTIME CHUNK_COUNT  \\\n",
       "(createdAt,)                                                     \n",
       "2023-06-08 17:37:08.269                     293659           1   \n",
       "2023-06-08 18:07:39.135                     295490           1   \n",
       "2023-06-08 18:44:52.934                     297724           1   \n",
       "2023-06-08 19:23:21.574                     300035           1   \n",
       "2023-06-08 19:54:24.846                     301896           1   \n",
       "\n",
       "                        CALIBRATED_SAMPLINGRATE             device  \\\n",
       "(createdAt,)                                                         \n",
       "2023-06-08 17:37:08.269                     821  CA:B8:31:00:00:21   \n",
       "2023-06-08 18:07:39.135                     821  CA:B8:31:00:00:21   \n",
       "2023-06-08 18:44:52.934                     821  CA:B8:31:00:00:21   \n",
       "2023-06-08 19:23:21.574                     822  CA:B8:31:00:00:21   \n",
       "2023-06-08 19:54:24.846                     821  CA:B8:31:00:00:21   \n",
       "\n",
       "                                   gateway TEMPERATURE CLEARANCE_1  ...  \\\n",
       "(createdAt,)                                                        ...   \n",
       "2023-06-08 17:37:08.269  CA:B8:28:00:00:82       33.08     7.05529  ...   \n",
       "2023-06-08 18:07:39.135  CA:B8:28:00:00:82       35.01    6.796348  ...   \n",
       "2023-06-08 18:44:52.934  CA:B8:28:00:00:82        34.1     6.29363  ...   \n",
       "2023-06-08 19:23:21.574  CA:B8:28:00:00:82       33.49   54.723382  ...   \n",
       "2023-06-08 19:54:24.846  CA:B8:28:00:00:82       35.37    8.549123  ...   \n",
       "\n",
       "                        PEAK_TO_PEAK_2 PEAK_TO_PEAK_3 0_Data 1_Data 3_Data  \\\n",
       "(createdAt,)                                                                 \n",
       "2023-06-08 17:37:08.269       0.122803       0.181824   3.02   3.13    0.0   \n",
       "2023-06-08 18:07:39.135       0.067017       0.064026   3.01   3.11    0.0   \n",
       "2023-06-08 18:44:52.934       0.067993        0.08606   3.17   3.31    0.0   \n",
       "2023-06-08 19:23:21.574        0.16748       0.122253   3.16   3.28    0.0   \n",
       "2023-06-08 19:54:24.846       0.082275       0.078735   3.22    3.4    0.0   \n",
       "\n",
       "                        4_Data 5_Data   6_Data 7_Data 8_Data  \n",
       "(createdAt,)                                                  \n",
       "2023-06-08 17:37:08.269    0.0    1.0  4108.42  102.0    NaN  \n",
       "2023-06-08 18:07:39.135    0.0    1.0  1830.88  102.0    NaN  \n",
       "2023-06-08 18:44:52.934    0.0    1.0  2233.63  102.0    NaN  \n",
       "2023-06-08 19:23:21.574    0.0    1.0   2308.6  102.0    NaN  \n",
       "2023-06-08 19:54:24.846    0.0    1.0  1863.52  102.0    NaN  \n",
       "\n",
       "[5 rows x 44 columns]"
      ]
     },
     "execution_count": 60,
     "metadata": {},
     "output_type": "execute_result"
    }
   ],
   "source": [
    "data.head()"
   ]
  },
  {
   "cell_type": "code",
   "execution_count": 61,
   "id": "e477b3b5",
   "metadata": {
    "scrolled": false
   },
   "outputs": [
    {
     "data": {
      "text/html": [
       "<div>\n",
       "<style scoped>\n",
       "    .dataframe tbody tr th:only-of-type {\n",
       "        vertical-align: middle;\n",
       "    }\n",
       "\n",
       "    .dataframe tbody tr th {\n",
       "        vertical-align: top;\n",
       "    }\n",
       "\n",
       "    .dataframe thead tr th {\n",
       "        text-align: left;\n",
       "    }\n",
       "\n",
       "    .dataframe thead tr:last-of-type th {\n",
       "        text-align: right;\n",
       "    }\n",
       "</style>\n",
       "<table border=\"1\" class=\"dataframe\">\n",
       "  <thead>\n",
       "    <tr>\n",
       "      <th></th>\n",
       "      <th>Id</th>\n",
       "      <th>createdAt</th>\n",
       "      <th>MEASUREMENT_START_TIME</th>\n",
       "      <th>MEASUREMENT_START_UNIXTIME</th>\n",
       "      <th>CHUNK_COUNT</th>\n",
       "      <th>CALIBRATED_SAMPLINGRATE</th>\n",
       "      <th>device</th>\n",
       "      <th>gateway</th>\n",
       "      <th>TEMPERATURE</th>\n",
       "      <th>CLEARANCE_1</th>\n",
       "      <th>...</th>\n",
       "      <th>PEAK_TO_PEAK_2</th>\n",
       "      <th>PEAK_TO_PEAK_3</th>\n",
       "      <th>0_Data</th>\n",
       "      <th>1_Data</th>\n",
       "      <th>3_Data</th>\n",
       "      <th>4_Data</th>\n",
       "      <th>5_Data</th>\n",
       "      <th>6_Data</th>\n",
       "      <th>7_Data</th>\n",
       "      <th>8_Data</th>\n",
       "    </tr>\n",
       "    <tr>\n",
       "      <th>(createdAt,)</th>\n",
       "      <th></th>\n",
       "      <th></th>\n",
       "      <th></th>\n",
       "      <th></th>\n",
       "      <th></th>\n",
       "      <th></th>\n",
       "      <th></th>\n",
       "      <th></th>\n",
       "      <th></th>\n",
       "      <th></th>\n",
       "      <th></th>\n",
       "      <th></th>\n",
       "      <th></th>\n",
       "      <th></th>\n",
       "      <th></th>\n",
       "      <th></th>\n",
       "      <th></th>\n",
       "      <th></th>\n",
       "      <th></th>\n",
       "      <th></th>\n",
       "      <th></th>\n",
       "    </tr>\n",
       "  </thead>\n",
       "  <tbody>\n",
       "    <tr>\n",
       "      <th>2023-10-03 21:33:05.800</th>\n",
       "      <td>651c88915c26cf00220ae5a4</td>\n",
       "      <td>2023-10-03T21:33:05.800000Z</td>\n",
       "      <td>15:52:01:02:01:1970</td>\n",
       "      <td>143518</td>\n",
       "      <td>1</td>\n",
       "      <td>821</td>\n",
       "      <td>CA:B8:31:00:00:21</td>\n",
       "      <td>CA:B8:28:00:00:82</td>\n",
       "      <td>36.81</td>\n",
       "      <td>8.428254</td>\n",
       "      <td>...</td>\n",
       "      <td>0.880066</td>\n",
       "      <td>0.187256</td>\n",
       "      <td>2.85</td>\n",
       "      <td>2.85</td>\n",
       "      <td>0.0</td>\n",
       "      <td>0.0</td>\n",
       "      <td>2.02</td>\n",
       "      <td>1.0</td>\n",
       "      <td>1815.95</td>\n",
       "      <td>102.0</td>\n",
       "    </tr>\n",
       "    <tr>\n",
       "      <th>2023-10-03 22:06:03.261</th>\n",
       "      <td>651c904b5c26cf00220ae5ac</td>\n",
       "      <td>2023-10-03T22:06:03.261000Z</td>\n",
       "      <td>16:24:58:02:01:1970</td>\n",
       "      <td>145496</td>\n",
       "      <td>1</td>\n",
       "      <td>821</td>\n",
       "      <td>CA:B8:31:00:00:21</td>\n",
       "      <td>CA:B8:28:00:00:82</td>\n",
       "      <td>40.75</td>\n",
       "      <td>8.474158</td>\n",
       "      <td>...</td>\n",
       "      <td>0.886414</td>\n",
       "      <td>0.340332</td>\n",
       "      <td>2.86</td>\n",
       "      <td>2.87</td>\n",
       "      <td>0.0</td>\n",
       "      <td>0.0</td>\n",
       "      <td>8.54</td>\n",
       "      <td>1.0</td>\n",
       "      <td>1977.59</td>\n",
       "      <td>102.0</td>\n",
       "    </tr>\n",
       "    <tr>\n",
       "      <th>2023-10-03 22:36:10.090</th>\n",
       "      <td>651c975a5c26cf00220ae5b2</td>\n",
       "      <td>2023-10-03T22:36:10.090000Z</td>\n",
       "      <td>16:55:05:02:01:1970</td>\n",
       "      <td>147302</td>\n",
       "      <td>1</td>\n",
       "      <td>821</td>\n",
       "      <td>CA:B8:31:00:00:21</td>\n",
       "      <td>CA:B8:28:00:00:82</td>\n",
       "      <td>40.22</td>\n",
       "      <td>6.617327</td>\n",
       "      <td>...</td>\n",
       "      <td>0.990906</td>\n",
       "      <td>0.177368</td>\n",
       "      <td>2.86</td>\n",
       "      <td>2.86</td>\n",
       "      <td>0.0</td>\n",
       "      <td>0.0</td>\n",
       "      <td>6.63</td>\n",
       "      <td>1.0</td>\n",
       "      <td>1806.85</td>\n",
       "      <td>102.0</td>\n",
       "    </tr>\n",
       "    <tr>\n",
       "      <th>2023-10-03 23:16:49.135</th>\n",
       "      <td>651ca0e15c26cf00220ae5ba</td>\n",
       "      <td>2023-10-03T23:16:49.135000Z</td>\n",
       "      <td>17:35:44:02:01:1970</td>\n",
       "      <td>149741</td>\n",
       "      <td>1</td>\n",
       "      <td>821</td>\n",
       "      <td>CA:B8:31:00:00:21</td>\n",
       "      <td>CA:B8:28:00:00:82</td>\n",
       "      <td>37.36</td>\n",
       "      <td>7.326737</td>\n",
       "      <td>...</td>\n",
       "      <td>1.035828</td>\n",
       "      <td>0.333374</td>\n",
       "      <td>2.89</td>\n",
       "      <td>2.89</td>\n",
       "      <td>0.0</td>\n",
       "      <td>0.0</td>\n",
       "      <td>1.14</td>\n",
       "      <td>1.0</td>\n",
       "      <td>2439.04</td>\n",
       "      <td>102.0</td>\n",
       "    </tr>\n",
       "    <tr>\n",
       "      <th>2023-10-03 23:47:19.043</th>\n",
       "      <td>651ca8075c26cf00220ae5c0</td>\n",
       "      <td>2023-10-03T23:47:19.043000Z</td>\n",
       "      <td>18:06:20:02:01:1970</td>\n",
       "      <td>151578</td>\n",
       "      <td>1</td>\n",
       "      <td>821</td>\n",
       "      <td>CA:B8:31:00:00:21</td>\n",
       "      <td>CA:B8:28:00:00:82</td>\n",
       "      <td>38.83</td>\n",
       "      <td>28.376968</td>\n",
       "      <td>...</td>\n",
       "      <td>0.226013</td>\n",
       "      <td>0.084595</td>\n",
       "      <td>2.87</td>\n",
       "      <td>2.86</td>\n",
       "      <td>0.0</td>\n",
       "      <td>0.0</td>\n",
       "      <td>1.27</td>\n",
       "      <td>1.0</td>\n",
       "      <td>1829.83</td>\n",
       "      <td>102.0</td>\n",
       "    </tr>\n",
       "  </tbody>\n",
       "</table>\n",
       "<p>5 rows × 44 columns</p>\n",
       "</div>"
      ],
      "text/plain": [
       "                                               Id  \\\n",
       "(createdAt,)                                        \n",
       "2023-10-03 21:33:05.800  651c88915c26cf00220ae5a4   \n",
       "2023-10-03 22:06:03.261  651c904b5c26cf00220ae5ac   \n",
       "2023-10-03 22:36:10.090  651c975a5c26cf00220ae5b2   \n",
       "2023-10-03 23:16:49.135  651ca0e15c26cf00220ae5ba   \n",
       "2023-10-03 23:47:19.043  651ca8075c26cf00220ae5c0   \n",
       "\n",
       "                                           createdAt MEASUREMENT_START_TIME  \\\n",
       "(createdAt,)                                                                  \n",
       "2023-10-03 21:33:05.800  2023-10-03T21:33:05.800000Z    15:52:01:02:01:1970   \n",
       "2023-10-03 22:06:03.261  2023-10-03T22:06:03.261000Z    16:24:58:02:01:1970   \n",
       "2023-10-03 22:36:10.090  2023-10-03T22:36:10.090000Z    16:55:05:02:01:1970   \n",
       "2023-10-03 23:16:49.135  2023-10-03T23:16:49.135000Z    17:35:44:02:01:1970   \n",
       "2023-10-03 23:47:19.043  2023-10-03T23:47:19.043000Z    18:06:20:02:01:1970   \n",
       "\n",
       "                        MEASUREMENT_START_UNIXTIME CHUNK_COUNT  \\\n",
       "(createdAt,)                                                     \n",
       "2023-10-03 21:33:05.800                     143518           1   \n",
       "2023-10-03 22:06:03.261                     145496           1   \n",
       "2023-10-03 22:36:10.090                     147302           1   \n",
       "2023-10-03 23:16:49.135                     149741           1   \n",
       "2023-10-03 23:47:19.043                     151578           1   \n",
       "\n",
       "                        CALIBRATED_SAMPLINGRATE             device  \\\n",
       "(createdAt,)                                                         \n",
       "2023-10-03 21:33:05.800                     821  CA:B8:31:00:00:21   \n",
       "2023-10-03 22:06:03.261                     821  CA:B8:31:00:00:21   \n",
       "2023-10-03 22:36:10.090                     821  CA:B8:31:00:00:21   \n",
       "2023-10-03 23:16:49.135                     821  CA:B8:31:00:00:21   \n",
       "2023-10-03 23:47:19.043                     821  CA:B8:31:00:00:21   \n",
       "\n",
       "                                   gateway TEMPERATURE CLEARANCE_1  ...  \\\n",
       "(createdAt,)                                                        ...   \n",
       "2023-10-03 21:33:05.800  CA:B8:28:00:00:82       36.81    8.428254  ...   \n",
       "2023-10-03 22:06:03.261  CA:B8:28:00:00:82       40.75    8.474158  ...   \n",
       "2023-10-03 22:36:10.090  CA:B8:28:00:00:82       40.22    6.617327  ...   \n",
       "2023-10-03 23:16:49.135  CA:B8:28:00:00:82       37.36    7.326737  ...   \n",
       "2023-10-03 23:47:19.043  CA:B8:28:00:00:82       38.83   28.376968  ...   \n",
       "\n",
       "                        PEAK_TO_PEAK_2 PEAK_TO_PEAK_3 0_Data 1_Data 3_Data  \\\n",
       "(createdAt,)                                                                 \n",
       "2023-10-03 21:33:05.800       0.880066       0.187256   2.85   2.85    0.0   \n",
       "2023-10-03 22:06:03.261       0.886414       0.340332   2.86   2.87    0.0   \n",
       "2023-10-03 22:36:10.090       0.990906       0.177368   2.86   2.86    0.0   \n",
       "2023-10-03 23:16:49.135       1.035828       0.333374   2.89   2.89    0.0   \n",
       "2023-10-03 23:47:19.043       0.226013       0.084595   2.87   2.86    0.0   \n",
       "\n",
       "                        4_Data 5_Data 6_Data   7_Data 8_Data  \n",
       "(createdAt,)                                                  \n",
       "2023-10-03 21:33:05.800    0.0   2.02    1.0  1815.95  102.0  \n",
       "2023-10-03 22:06:03.261    0.0   8.54    1.0  1977.59  102.0  \n",
       "2023-10-03 22:36:10.090    0.0   6.63    1.0  1806.85  102.0  \n",
       "2023-10-03 23:16:49.135    0.0   1.14    1.0  2439.04  102.0  \n",
       "2023-10-03 23:47:19.043    0.0   1.27    1.0  1829.83  102.0  \n",
       "\n",
       "[5 rows x 44 columns]"
      ]
     },
     "execution_count": 61,
     "metadata": {},
     "output_type": "execute_result"
    }
   ],
   "source": [
    "data.tail()"
   ]
  },
  {
   "cell_type": "markdown",
   "id": "e4169147",
   "metadata": {},
   "source": [
    "# Burdan"
   ]
  },
  {
   "cell_type": "code",
   "execution_count": 1149,
   "id": "2d1a0f4e",
   "metadata": {
    "scrolled": false
   },
   "outputs": [
    {
     "name": "stdout",
     "output_type": "stream",
     "text": [
      "OK sinyal adet  674\n",
      "NOK sinyal adet  72\n",
      "TOPLAM sinyal adet  (746, 38)\n"
     ]
    },
    {
     "name": "stderr",
     "output_type": "stream",
     "text": [
      "C:\\Users\\ayhan.ozturk\\AppData\\Local\\Temp\\ipykernel_876\\2243528477.py:27: FutureWarning: Calling a ufunc on non-aligned DataFrames (or DataFrame/Series combination). Currently, the indices are ignored and the result takes the index/columns of the first DataFrame. In the future , the DataFrames/Series will be aligned before applying the ufunc.\n",
      "Convert one of the arguments to a NumPy array (eg 'ufunc(df1, np.asarray(df2)') to keep the current behaviour, or align manually (eg 'df1, df2 = df1.align(df2)') before passing to the ufunc to obtain the future behaviour and silence this warning.\n",
      "  train_data = train_data.iloc[np.where(np.logical_or(train_data['label1'] ==1,train_data['label2'] ==1 ))[0]]\n"
     ]
    }
   ],
   "source": [
    "#**********************\n",
    "# belli araligi alma\n",
    "# w0 = '2023-02-01T00:00:00.359'\n",
    "# w1 = '2023-02-08T23:59:00.359'\n",
    "# testArea = data.iloc[np.where(np.logical_and(data.index < pd.to_datetime(w0), data.index<= pd.to_datetime(w1)))]\n",
    "\n",
    "train_data = data.copy() # tumunu aldık x araligi ok y aralıgi nok diyebiliyoruz\n",
    "# test_data = data.iloc[np.where(np.logical_and(data['createdAt']>=w0, data['createdAt']<=w1))].copy() bu olsaydı belli bir araligi alacaktik ama farklı olan x ve y araligin, alamayacaktik\n",
    "\n",
    "# hatasiz ariza yok label 1 ve degeri 1\n",
    "w0 = '2023-10-02T06:01:00.359'\n",
    "w1 = '2023-10-03T23:59:00.359'\n",
    "train_data['label1'] = np.where(np.logical_and(data['createdAt']>=w0, data['createdAt']<=w1), 1, 0)\n",
    "print(\"OK sinyal adet \",train_data.iloc[np.where(train_data['label1'] ==1)].shape[0])\n",
    "\n",
    "# hatali ariza var label 2 ve degeri 1\n",
    "w0 = '2023-09-23T07:33:00.359' #23.09.2023  07:32:19\n",
    "w1 = '2023-10-02T05:59:59.359'\n",
    "train_data['label2'] = np.where(np.logical_and(data['createdAt']>=w0, data['createdAt']<=w1), 1, 0)\n",
    "print(\"NOK sinyal adet \",train_data.iloc[np.where(train_data['label2'] ==1)].shape[0])\n",
    "\n",
    "train_data = train_data.iloc[:, 8:]\n",
    "\n",
    "train_data.dropna(inplace=True)\n",
    "\n",
    "# hatali ve arizali olan tarihler bilestirilir\n",
    "train_data = train_data.iloc[np.where(np.logical_or(train_data['label1'] ==1,train_data['label2'] ==1 ))[0]]\n",
    "print(\"TOPLAM sinyal adet \",train_data.shape)\n",
    "\n"
   ]
  },
  {
   "cell_type": "code",
   "execution_count": 1150,
   "id": "849cd42c",
   "metadata": {},
   "outputs": [
    {
     "name": "stdout",
     "output_type": "stream",
     "text": [
      "DataFrame is written to Excel File successfully.\n"
     ]
    }
   ],
   "source": [
    "datatoexcel = pd.ExcelWriter('datasetTrain.xlsx')\n",
    "train_data.to_excel(datatoexcel)\n",
    "datatoexcel.save()\n",
    "print('DataFrame is written to Excel File successfully.')"
   ]
  },
  {
   "cell_type": "code",
   "execution_count": 1151,
   "id": "418e390b",
   "metadata": {
    "scrolled": false
   },
   "outputs": [
    {
     "name": "stderr",
     "output_type": "stream",
     "text": [
      "C:\\Users\\ayhan.ozturk\\.conda\\envs\\udemy\\lib\\site-packages\\sklearn\\utils\\validation.py:1688: FutureWarning: Feature names only support names that are all strings. Got feature names with dtypes: ['tuple']. An error will be raised in 1.2.\n",
      "  warnings.warn(\n",
      "C:\\Users\\ayhan.ozturk\\.conda\\envs\\udemy\\lib\\site-packages\\sklearn\\utils\\validation.py:1688: FutureWarning: Feature names only support names that are all strings. Got feature names with dtypes: ['tuple']. An error will be raised in 1.2.\n",
      "  warnings.warn(\n"
     ]
    },
    {
     "data": {
      "text/html": [
       "<div>\n",
       "<style scoped>\n",
       "    .dataframe tbody tr th:only-of-type {\n",
       "        vertical-align: middle;\n",
       "    }\n",
       "\n",
       "    .dataframe tbody tr th {\n",
       "        vertical-align: top;\n",
       "    }\n",
       "\n",
       "    .dataframe thead tr th {\n",
       "        text-align: left;\n",
       "    }\n",
       "\n",
       "    .dataframe thead tr:last-of-type th {\n",
       "        text-align: right;\n",
       "    }\n",
       "</style>\n",
       "<table border=\"1\" class=\"dataframe\">\n",
       "  <thead>\n",
       "    <tr>\n",
       "      <th></th>\n",
       "      <th>TEMPERATURE</th>\n",
       "      <th>CLEARANCE_1</th>\n",
       "      <th>CLEARANCE_2</th>\n",
       "      <th>CLEARANCE_3</th>\n",
       "      <th>CREST_1</th>\n",
       "      <th>CREST_2</th>\n",
       "      <th>CREST_3</th>\n",
       "      <th>GRMS_1</th>\n",
       "      <th>GRMS_2</th>\n",
       "      <th>GRMS_3</th>\n",
       "      <th>...</th>\n",
       "      <th>0_Data</th>\n",
       "      <th>1_Data</th>\n",
       "      <th>3_Data</th>\n",
       "      <th>4_Data</th>\n",
       "      <th>5_Data</th>\n",
       "      <th>6_Data</th>\n",
       "      <th>7_Data</th>\n",
       "      <th>8_Data</th>\n",
       "      <th>label1</th>\n",
       "      <th>label2</th>\n",
       "    </tr>\n",
       "    <tr>\n",
       "      <th>(createdAt,)</th>\n",
       "      <th></th>\n",
       "      <th></th>\n",
       "      <th></th>\n",
       "      <th></th>\n",
       "      <th></th>\n",
       "      <th></th>\n",
       "      <th></th>\n",
       "      <th></th>\n",
       "      <th></th>\n",
       "      <th></th>\n",
       "      <th></th>\n",
       "      <th></th>\n",
       "      <th></th>\n",
       "      <th></th>\n",
       "      <th></th>\n",
       "      <th></th>\n",
       "      <th></th>\n",
       "      <th></th>\n",
       "      <th></th>\n",
       "      <th></th>\n",
       "      <th></th>\n",
       "    </tr>\n",
       "  </thead>\n",
       "  <tbody>\n",
       "    <tr>\n",
       "      <th>2023-09-23 07:35:15.203</th>\n",
       "      <td>0.500829</td>\n",
       "      <td>0.057532</td>\n",
       "      <td>0.091731</td>\n",
       "      <td>0.078975</td>\n",
       "      <td>0.113819</td>\n",
       "      <td>0.216264</td>\n",
       "      <td>0.173427</td>\n",
       "      <td>0.252904</td>\n",
       "      <td>0.379393</td>\n",
       "      <td>0.173449</td>\n",
       "      <td>...</td>\n",
       "      <td>0.496994</td>\n",
       "      <td>0.521097</td>\n",
       "      <td>0.0</td>\n",
       "      <td>0.0</td>\n",
       "      <td>0.086654</td>\n",
       "      <td>0.0</td>\n",
       "      <td>0.029245</td>\n",
       "      <td>0.0</td>\n",
       "      <td>0.0</td>\n",
       "      <td>1.0</td>\n",
       "    </tr>\n",
       "    <tr>\n",
       "      <th>2023-09-23 07:53:05.861</th>\n",
       "      <td>0.491985</td>\n",
       "      <td>0.027353</td>\n",
       "      <td>0.299398</td>\n",
       "      <td>0.029257</td>\n",
       "      <td>0.072167</td>\n",
       "      <td>0.514122</td>\n",
       "      <td>0.092540</td>\n",
       "      <td>0.004660</td>\n",
       "      <td>0.006615</td>\n",
       "      <td>0.005921</td>\n",
       "      <td>...</td>\n",
       "      <td>0.494990</td>\n",
       "      <td>0.518987</td>\n",
       "      <td>0.0</td>\n",
       "      <td>0.0</td>\n",
       "      <td>0.090135</td>\n",
       "      <td>0.0</td>\n",
       "      <td>0.002047</td>\n",
       "      <td>0.0</td>\n",
       "      <td>0.0</td>\n",
       "      <td>1.0</td>\n",
       "    </tr>\n",
       "    <tr>\n",
       "      <th>2023-09-23 07:53:39.218</th>\n",
       "      <td>0.489773</td>\n",
       "      <td>0.067003</td>\n",
       "      <td>0.079599</td>\n",
       "      <td>0.050547</td>\n",
       "      <td>0.157084</td>\n",
       "      <td>0.194564</td>\n",
       "      <td>0.120147</td>\n",
       "      <td>0.240382</td>\n",
       "      <td>0.385146</td>\n",
       "      <td>0.174739</td>\n",
       "      <td>...</td>\n",
       "      <td>0.488978</td>\n",
       "      <td>0.514768</td>\n",
       "      <td>0.0</td>\n",
       "      <td>0.0</td>\n",
       "      <td>0.090909</td>\n",
       "      <td>0.0</td>\n",
       "      <td>0.000676</td>\n",
       "      <td>0.0</td>\n",
       "      <td>0.0</td>\n",
       "      <td>1.0</td>\n",
       "    </tr>\n",
       "    <tr>\n",
       "      <th>2023-09-23 07:54:26.014</th>\n",
       "      <td>0.490326</td>\n",
       "      <td>0.105707</td>\n",
       "      <td>0.082859</td>\n",
       "      <td>0.114369</td>\n",
       "      <td>0.223919</td>\n",
       "      <td>0.153879</td>\n",
       "      <td>0.246185</td>\n",
       "      <td>0.203750</td>\n",
       "      <td>0.351991</td>\n",
       "      <td>0.152534</td>\n",
       "      <td>...</td>\n",
       "      <td>0.913828</td>\n",
       "      <td>0.527426</td>\n",
       "      <td>0.0</td>\n",
       "      <td>0.0</td>\n",
       "      <td>0.084720</td>\n",
       "      <td>0.0</td>\n",
       "      <td>0.003337</td>\n",
       "      <td>0.0</td>\n",
       "      <td>0.0</td>\n",
       "      <td>1.0</td>\n",
       "    </tr>\n",
       "    <tr>\n",
       "      <th>2023-09-23 08:11:22.670</th>\n",
       "      <td>0.504699</td>\n",
       "      <td>0.087493</td>\n",
       "      <td>0.104033</td>\n",
       "      <td>0.091665</td>\n",
       "      <td>0.212601</td>\n",
       "      <td>0.224124</td>\n",
       "      <td>0.221950</td>\n",
       "      <td>0.232128</td>\n",
       "      <td>0.367832</td>\n",
       "      <td>0.170253</td>\n",
       "      <td>...</td>\n",
       "      <td>0.519038</td>\n",
       "      <td>0.540084</td>\n",
       "      <td>0.0</td>\n",
       "      <td>0.0</td>\n",
       "      <td>0.088201</td>\n",
       "      <td>0.0</td>\n",
       "      <td>0.197964</td>\n",
       "      <td>0.0</td>\n",
       "      <td>0.0</td>\n",
       "      <td>1.0</td>\n",
       "    </tr>\n",
       "  </tbody>\n",
       "</table>\n",
       "<p>5 rows × 38 columns</p>\n",
       "</div>"
      ],
      "text/plain": [
       "                        TEMPERATURE CLEARANCE_1 CLEARANCE_2 CLEARANCE_3  \\\n",
       "(createdAt,)                                                              \n",
       "2023-09-23 07:35:15.203    0.500829    0.057532    0.091731    0.078975   \n",
       "2023-09-23 07:53:05.861    0.491985    0.027353    0.299398    0.029257   \n",
       "2023-09-23 07:53:39.218    0.489773    0.067003    0.079599    0.050547   \n",
       "2023-09-23 07:54:26.014    0.490326    0.105707    0.082859    0.114369   \n",
       "2023-09-23 08:11:22.670    0.504699    0.087493    0.104033    0.091665   \n",
       "\n",
       "                          CREST_1   CREST_2   CREST_3    GRMS_1    GRMS_2  \\\n",
       "(createdAt,)                                                                \n",
       "2023-09-23 07:35:15.203  0.113819  0.216264  0.173427  0.252904  0.379393   \n",
       "2023-09-23 07:53:05.861  0.072167  0.514122  0.092540  0.004660  0.006615   \n",
       "2023-09-23 07:53:39.218  0.157084  0.194564  0.120147  0.240382  0.385146   \n",
       "2023-09-23 07:54:26.014  0.223919  0.153879  0.246185  0.203750  0.351991   \n",
       "2023-09-23 08:11:22.670  0.212601  0.224124  0.221950  0.232128  0.367832   \n",
       "\n",
       "                           GRMS_3  ...    0_Data    1_Data 3_Data 4_Data  \\\n",
       "(createdAt,)                       ...                                     \n",
       "2023-09-23 07:35:15.203  0.173449  ...  0.496994  0.521097    0.0    0.0   \n",
       "2023-09-23 07:53:05.861  0.005921  ...  0.494990  0.518987    0.0    0.0   \n",
       "2023-09-23 07:53:39.218  0.174739  ...  0.488978  0.514768    0.0    0.0   \n",
       "2023-09-23 07:54:26.014  0.152534  ...  0.913828  0.527426    0.0    0.0   \n",
       "2023-09-23 08:11:22.670  0.170253  ...  0.519038  0.540084    0.0    0.0   \n",
       "\n",
       "                           5_Data 6_Data    7_Data 8_Data label1 label2  \n",
       "(createdAt,)                                                             \n",
       "2023-09-23 07:35:15.203  0.086654    0.0  0.029245    0.0    0.0    1.0  \n",
       "2023-09-23 07:53:05.861  0.090135    0.0  0.002047    0.0    0.0    1.0  \n",
       "2023-09-23 07:53:39.218  0.090909    0.0  0.000676    0.0    0.0    1.0  \n",
       "2023-09-23 07:54:26.014  0.084720    0.0  0.003337    0.0    0.0    1.0  \n",
       "2023-09-23 08:11:22.670  0.088201    0.0  0.197964    0.0    0.0    1.0  \n",
       "\n",
       "[5 rows x 38 columns]"
      ]
     },
     "execution_count": 1151,
     "metadata": {},
     "output_type": "execute_result"
    }
   ],
   "source": [
    "cols_normalize = train_data.columns\n",
    "min_max_scaler = preprocessing.MinMaxScaler()\n",
    "norm_train_df = pd.DataFrame(min_max_scaler.fit_transform(train_data[cols_normalize]), \n",
    "                             columns=cols_normalize, \n",
    "                             index=train_data.index)\n",
    "join_df = train_data[train_data.columns.difference(cols_normalize)].join(norm_train_df)\n",
    "train_df = join_df.reindex(columns = train_data.columns)\n",
    "train_df.dropna(inplace=True)\n",
    "train_df.head()"
   ]
  },
  {
   "cell_type": "code",
   "execution_count": 1152,
   "id": "ae1576c3",
   "metadata": {},
   "outputs": [],
   "source": [
    "cols1 = ['CLEARANCE_1', 'CLEARANCE_2', 'CLEARANCE_3', 'CREST_1', 'CREST_2', 'CREST_3', 'GRMS_1', 'GRMS_2', 'GRMS_3','KURTOSIS_1','KURTOSIS_2','KURTOSIS_3','SKEWNESS_1','SKEWNESS_2','SKEWNESS_3']\n",
    "\n",
    "#cols2 = ['TEMPERATURE','VRMS_1', 'VRMS_2', 'VRMS_3', 'PEAK_1', 'PEAK_2', 'PEAK_3', 'SUM_1', 'SUM_2', 'SUM_3', 'PEAK_TO_PEAK_1', 'PEAK_TO_PEAK_2','PEAK_TO_PEAK_3']\n",
    "\n",
    "cols2 = ['TEMPERATURE','VRMS_1', 'VRMS_2', 'VRMS_3', 'PEAK_1', 'PEAK_2', 'PEAK_3', 'SUM_1', 'SUM_2', 'SUM_3', 'PEAK_TO_PEAK_1', 'PEAK_TO_PEAK_2','PEAK_TO_PEAK_3','0_Data','1_Data','5_Data','7_Data']\n",
    "\n",
    "cols1.extend(cols2)\n",
    "\n",
    "# R PHAZE CURRENT, S PHASE CURRENT, SERVO TORQ, CYCLE TIME"
   ]
  },
  {
   "cell_type": "code",
   "execution_count": null,
   "id": "c8dc53f6",
   "metadata": {},
   "outputs": [],
   "source": []
  },
  {
   "cell_type": "code",
   "execution_count": 1153,
   "id": "ab88e69e",
   "metadata": {},
   "outputs": [
    {
     "name": "stdout",
     "output_type": "stream",
     "text": [
      "['CLEARANCE_1', 'CLEARANCE_2', 'CLEARANCE_3', 'CREST_1', 'CREST_2', 'CREST_3', 'GRMS_1', 'GRMS_2', 'GRMS_3', 'KURTOSIS_1', 'KURTOSIS_2', 'KURTOSIS_3', 'SKEWNESS_1', 'SKEWNESS_2', 'SKEWNESS_3', 'TEMPERATURE', 'VRMS_1', 'VRMS_2', 'VRMS_3', 'PEAK_1', 'PEAK_2', 'PEAK_3', 'SUM_1', 'SUM_2', 'SUM_3', 'PEAK_TO_PEAK_1', 'PEAK_TO_PEAK_2', 'PEAK_TO_PEAK_3', '0_Data', '1_Data', '5_Data', '7_Data']\n"
     ]
    }
   ],
   "source": [
    "print(cols1)"
   ]
  },
  {
   "cell_type": "code",
   "execution_count": 1154,
   "id": "f1f2fa67",
   "metadata": {},
   "outputs": [
    {
     "data": {
      "text/plain": [
       "(738, 8, 32)"
      ]
     },
     "execution_count": 1154,
     "metadata": {},
     "output_type": "execute_result"
    }
   ],
   "source": [
    "def gen_sequence(id_df, seq_length, seq_cols):\n",
    "  \n",
    "    data_array = id_df[seq_cols].values\n",
    "    num_elements = data_array.shape[0]\n",
    "    for start, stop in zip(range(0, num_elements-seq_length), range(seq_length, num_elements)):\n",
    "        yield data_array[start:stop, :]\n",
    "        \n",
    "\n",
    "seq_gen = (list(gen_sequence(train_df, sequence_length, cols1))\n",
    "                     for id in range(1,2))\n",
    "\n",
    "seq_array = np.concatenate(list(seq_gen)).astype(np.float32)\n",
    "seq_array.shape"
   ]
  },
  {
   "cell_type": "code",
   "execution_count": 1155,
   "id": "a05216ff",
   "metadata": {},
   "outputs": [
    {
     "data": {
      "text/plain": [
       "(738, 2)"
      ]
     },
     "execution_count": 1155,
     "metadata": {},
     "output_type": "execute_result"
    }
   ],
   "source": [
    "def gen_labels(id_df, seq_length, label):\n",
    "    data_array = id_df[label].values\n",
    "    num_elements = data_array.shape[0]\n",
    "    return data_array[seq_length:num_elements, :]\n",
    "\n",
    "\n",
    "label_gen = [gen_labels(train_df, sequence_length, ['label1','label2']) \n",
    "             for id in range(1,2)]\n",
    "\n",
    "label_array = np.concatenate(label_gen).astype(np.float32)\n",
    "\n",
    "label_array.shape\n"
   ]
  },
  {
   "cell_type": "code",
   "execution_count": 1156,
   "id": "7e8aa325",
   "metadata": {},
   "outputs": [
    {
     "name": "stdout",
     "output_type": "stream",
     "text": [
      "Model: \"sequential_58\"\n",
      "_________________________________________________________________\n",
      " Layer (type)                Output Shape              Param #   \n",
      "=================================================================\n",
      " lstm_120 (LSTM)             (None, 8, 100)            53200     \n",
      "                                                                 \n",
      " lstm_121 (LSTM)             (None, 80)                57920     \n",
      "                                                                 \n",
      " dropout_30 (Dropout)        (None, 80)                0         \n",
      "                                                                 \n",
      " dense_30 (Dense)            (None, 2)                 162       \n",
      "                                                                 \n",
      "=================================================================\n",
      "Total params: 111,282\n",
      "Trainable params: 111,282\n",
      "Non-trainable params: 0\n",
      "_________________________________________________________________\n",
      "None\n"
     ]
    }
   ],
   "source": [
    "nb_features = seq_array.shape[2]\n",
    "nb_out = label_array.shape[1]\n",
    "\n",
    "model = Sequential()\n",
    "model.add(LSTM(\n",
    "         input_shape=(sequence_length, nb_features),\n",
    "         units=100,\n",
    "         return_sequences=True))\n",
    "\n",
    "\n",
    "model = Sequential()\n",
    "model.add(LSTM(\n",
    "         input_shape=(sequence_length, nb_features),\n",
    "         units=100,\n",
    "         return_sequences=True))\n",
    "\n",
    "model = Sequential()\n",
    "model.add(LSTM(\n",
    "         input_shape=(sequence_length, nb_features),\n",
    "         units=100,\n",
    "         return_sequences=True))\n",
    "\n",
    "model.add(LSTM(\n",
    "          units=80,\n",
    "          return_sequences=False))\n",
    "\n",
    "\n",
    "model.add(Dropout(0.40))\n",
    "\n",
    "\n",
    "\n",
    "# model.add(Dense(units=nb_out, activation='sigmoid'))\n",
    "# model.compile(loss='binary_crossentropy', optimizer='adam', metrics=['accuracy'])\n",
    "\n",
    "model.add(Dense(units=nb_out, activation='softmax'))\n",
    "model.compile(loss=tf.keras.losses.CategoricalCrossentropy(), optimizer='adam', metrics=['accuracy'])\n",
    "\n",
    "print(model.summary())"
   ]
  },
  {
   "cell_type": "code",
   "execution_count": 1195,
   "id": "3ce18d26",
   "metadata": {},
   "outputs": [
    {
     "name": "stdout",
     "output_type": "stream",
     "text": [
      "Model: \"sequential_59\"\n",
      "_________________________________________________________________\n",
      " Layer (type)                Output Shape              Param #   \n",
      "=================================================================\n",
      " lstm_122 (LSTM)             (None, 8, 100)            53200     \n",
      "                                                                 \n",
      " lstm_123 (LSTM)             (None, 8, 100)            80400     \n",
      "                                                                 \n",
      " lstm_124 (LSTM)             (None, 75)                52800     \n",
      "                                                                 \n",
      " dropout_31 (Dropout)        (None, 75)                0         \n",
      "                                                                 \n",
      " dense_31 (Dense)            (None, 2)                 152       \n",
      "                                                                 \n",
      "=================================================================\n",
      "Total params: 186,552\n",
      "Trainable params: 186,552\n",
      "Non-trainable params: 0\n",
      "_________________________________________________________________\n",
      "None\n"
     ]
    }
   ],
   "source": [
    "nb_features = seq_array.shape[2]\n",
    "nb_out = label_array.shape[1]\n",
    "\n",
    "model = Sequential()\n",
    "model.add(LSTM(\n",
    "         input_shape=(sequence_length, nb_features),\n",
    "         units=100,\n",
    "         return_sequences=True))\n",
    "\n",
    "model.add(LSTM(\n",
    "         input_shape=(sequence_length, nb_features),\n",
    "         units=100,\n",
    "         return_sequences=True))\n",
    "\n",
    "model.add(LSTM(\n",
    "          units=75,\n",
    "          return_sequences=False))\n",
    "model.add(Dropout(0.50))\n",
    "\n",
    "\n",
    "model.add(Dense(units=nb_out, activation='sigmoid'))\n",
    "model.compile(loss='binary_crossentropy', optimizer='adam', metrics=['accuracy'])\n",
    "\n",
    "print(model.summary())"
   ]
  },
  {
   "cell_type": "code",
   "execution_count": null,
   "id": "26da26fb",
   "metadata": {},
   "outputs": [],
   "source": []
  },
  {
   "cell_type": "code",
   "execution_count": 1157,
   "id": "76feb39e",
   "metadata": {
    "scrolled": false
   },
   "outputs": [
    {
     "name": "stdout",
     "output_type": "stream",
     "text": [
      "Epoch 1/100\n",
      "590/590 [==============================] - 26s 31ms/step - loss: 0.2756 - accuracy: 0.9068 - val_loss: 0.0768 - val_accuracy: 1.0000\n",
      "Epoch 2/100\n",
      "590/590 [==============================] - 13s 22ms/step - loss: 0.2226 - accuracy: 0.9068 - val_loss: 0.0162 - val_accuracy: 1.0000\n",
      "CPU times: total: 55.4 s\n",
      "Wall time: 39 s\n"
     ]
    }
   ],
   "source": [
    "%%time \n",
    "###\n",
    "history = model.fit(seq_array, label_array, epochs=100, batch_size=1, validation_split=0.20, verbose=1,\n",
    "          callbacks = [keras.callbacks.EarlyStopping(monitor='val_loss', min_delta=0, patience=0, verbose=0, mode='auto')])"
   ]
  },
  {
   "cell_type": "code",
   "execution_count": 1158,
   "id": "0c8d213b",
   "metadata": {
    "scrolled": false
   },
   "outputs": [
    {
     "name": "stdout",
     "output_type": "stream",
     "text": [
      "24/24 [==============================] - 2s 17ms/step\n"
     ]
    },
    {
     "data": {
      "text/plain": [
       "array([[0.57667947, 0.42332056],\n",
       "       [0.5062903 , 0.49370962],\n",
       "       [0.51378936, 0.4862106 ],\n",
       "       ...,\n",
       "       [0.9933549 , 0.00664515],\n",
       "       [0.9920609 , 0.00793907],\n",
       "       [0.9938677 , 0.0061323 ]], dtype=float32)"
      ]
     },
     "execution_count": 1158,
     "metadata": {},
     "output_type": "execute_result"
    }
   ],
   "source": [
    "model.predict(seq_array)"
   ]
  },
  {
   "cell_type": "code",
   "execution_count": 1159,
   "id": "07811ce9",
   "metadata": {
    "scrolled": true
   },
   "outputs": [
    {
     "name": "stdout",
     "output_type": "stream",
     "text": [
      "8/8 [==============================] - 2s 26ms/step - loss: 0.1180 - accuracy: 0.9377\n",
      "Accurracy: 0.9376693964004517\n"
     ]
    }
   ],
   "source": [
    "scores = model.evaluate(seq_array, label_array, verbose=1, batch_size=100)\n",
    "print('Accurracy: {}'.format(scores[1]))"
   ]
  },
  {
   "cell_type": "code",
   "execution_count": 1160,
   "id": "01225738",
   "metadata": {},
   "outputs": [
    {
     "name": "stdout",
     "output_type": "stream",
     "text": [
      "24/24 [==============================] - 0s 16ms/step\n"
     ]
    }
   ],
   "source": [
    "y_pred = np.argmax(model.predict(seq_array),axis=1) # model.predict_classes(seq_array,verbose=1, batch_size=100) \n",
    "y_true = label_array"
   ]
  },
  {
   "cell_type": "code",
   "execution_count": 1161,
   "id": "82ed6925",
   "metadata": {},
   "outputs": [
    {
     "data": {
      "text/plain": [
       "738"
      ]
     },
     "execution_count": 1161,
     "metadata": {},
     "output_type": "execute_result"
    }
   ],
   "source": [
    "y_pred.shape[0]"
   ]
  },
  {
   "cell_type": "code",
   "execution_count": 1162,
   "id": "5ad87e1e",
   "metadata": {},
   "outputs": [
    {
     "data": {
      "text/plain": [
       "array([0, 0, 0, 1, 1, 1, 1, 1, 1, 1, 1, 1, 1, 1, 1, 1, 1, 1, 1, 1, 1, 1,\n",
       "       1, 1, 1, 1, 1, 1, 1, 1, 1, 1, 1, 1, 1, 1, 1, 1, 1, 1, 1, 1, 1, 1,\n",
       "       1, 1, 1, 1, 0, 0, 0, 0, 0, 0, 0, 1, 1, 1, 1, 1, 1, 0, 1, 1, 1, 1,\n",
       "       1, 1, 1, 1, 1, 0, 0, 0, 0, 0, 0, 0, 0, 0, 0, 0, 0, 0, 0, 0, 0, 0,\n",
       "       0, 0, 0, 0, 0, 1, 1, 1, 1, 1, 1, 1, 1, 1, 1, 1, 1, 1, 1, 1, 1, 1,\n",
       "       1, 1, 1, 1, 1, 1, 1, 1, 1, 1, 1, 0, 0, 0, 0, 0, 0, 0, 0, 0, 0, 0,\n",
       "       0, 0, 0, 0, 0, 0, 0, 0, 0, 0, 0, 0, 0, 0, 0, 0, 0, 0, 0, 0, 0, 0,\n",
       "       0, 0, 0, 0, 0, 0, 0, 0, 0, 0, 0, 0, 0, 0, 0, 0, 0, 0, 0, 0, 0, 0,\n",
       "       0, 0, 0, 0, 0, 0, 0, 0, 0, 0, 0, 0, 0, 0, 0, 0, 0, 0, 0, 0, 0, 0,\n",
       "       0, 0, 0, 0, 0, 0, 0, 0, 0, 0, 0, 0, 0, 0, 0, 0, 0, 0, 0, 0, 0, 0,\n",
       "       0, 0, 0, 0, 0, 0, 0, 0, 0, 0, 0, 0, 0, 0, 0, 0, 0, 0, 0, 0, 0, 0,\n",
       "       0, 0, 0, 0, 0, 0, 0, 0, 0, 0, 0, 0, 0, 0, 0, 0, 0, 0, 0, 0, 0, 0,\n",
       "       0, 0, 0, 0, 0, 0, 0, 0, 0, 0, 0, 0, 0, 0, 0, 0, 0, 0, 0, 0, 0, 0,\n",
       "       0, 0, 0, 0, 0, 0, 0, 0, 0, 0, 0, 0, 0, 0, 0, 0, 0, 0, 0, 0, 0, 0,\n",
       "       0, 0, 0, 0, 0, 0, 0, 0, 0, 0, 0, 0, 0, 0, 0, 0, 0, 0, 0, 0, 0, 0,\n",
       "       0, 0, 0, 0, 0, 0, 0, 0, 0, 0, 0, 0, 0, 0, 0, 0, 0, 0, 0, 0, 0, 0,\n",
       "       0, 0, 0, 0, 0, 0, 0, 0, 0, 0, 0, 0, 0, 0, 0, 0, 0, 0, 0, 0, 0, 0,\n",
       "       0, 0, 0, 0, 0, 0, 0, 0, 0, 0, 0, 0, 0, 0, 0, 0, 0, 0, 0, 0, 0, 0,\n",
       "       0, 0, 0, 0, 0, 0, 0, 0, 0, 0, 0, 0, 0, 0, 0, 0, 0, 0, 0, 0, 0, 0,\n",
       "       0, 0, 0, 0, 0, 0, 0, 0, 0, 0, 0, 0, 0, 0, 0, 0, 0, 0, 0, 0, 0, 0,\n",
       "       0, 0, 0, 0, 0, 0, 0, 0, 0, 0, 0, 0, 0, 0, 0, 0, 0, 0, 0, 0, 0, 0,\n",
       "       0, 0, 0, 0, 0, 0, 0, 0, 0, 0, 0, 0, 0, 0, 0, 0, 0, 0, 0, 0, 0, 0,\n",
       "       0, 0, 0, 0, 0, 0, 0, 0, 0, 0, 0, 0, 0, 0, 0, 0, 0, 0, 0, 0, 0, 0,\n",
       "       0, 0, 0, 0, 0, 0, 0, 0, 0, 0, 0, 0, 0, 0, 0, 0, 0, 0, 0, 0, 0, 0,\n",
       "       0, 0, 0, 0, 0, 0, 0, 0, 0, 0, 0, 0, 0, 0, 0, 0, 0, 0, 0, 0, 0, 0,\n",
       "       0, 0, 0, 0, 0, 0, 0, 0, 0, 0, 0, 0, 0, 0, 0, 0, 0, 0, 0, 0, 0, 0,\n",
       "       0, 0, 0, 0, 0, 0, 0, 0, 0, 0, 0, 0, 0, 0, 0, 0, 0, 0, 0, 0, 0, 0,\n",
       "       0, 0, 0, 0, 0, 0, 0, 0, 0, 0, 0, 0, 0, 0, 0, 0, 0, 0, 0, 0, 0, 0,\n",
       "       0, 0, 0, 0, 0, 0, 0, 0, 0, 0, 0, 0, 0, 0, 0, 0, 0, 0, 0, 0, 0, 0,\n",
       "       0, 0, 0, 0, 0, 0, 0, 0, 0, 0, 0, 0, 0, 0, 0, 0, 0, 0, 0, 0, 0, 0,\n",
       "       0, 0, 0, 0, 0, 0, 0, 0, 0, 0, 0, 0, 0, 0, 0, 0, 0, 0, 0, 0, 0, 0,\n",
       "       0, 0, 0, 0, 0, 0, 0, 0, 0, 0, 0, 0, 0, 0, 0, 0, 0, 0, 0, 0, 0, 0,\n",
       "       0, 0, 0, 0, 0, 0, 0, 0, 0, 0, 0, 0, 0, 0, 0, 0, 0, 0, 0, 0, 0, 0,\n",
       "       0, 0, 0, 0, 0, 0, 0, 0, 0, 0, 0, 0], dtype=int64)"
      ]
     },
     "execution_count": 1162,
     "metadata": {},
     "output_type": "execute_result"
    }
   ],
   "source": [
    "y_pred"
   ]
  },
  {
   "cell_type": "code",
   "execution_count": 1163,
   "id": "df35537c",
   "metadata": {},
   "outputs": [],
   "source": [
    "acc = history.history['accuracy']\n",
    "val_acc = history.history['val_accuracy']\n",
    "loss = history.history['loss']\n",
    "val_loss = history.history['val_loss']"
   ]
  },
  {
   "cell_type": "code",
   "execution_count": 1164,
   "id": "beb4b4d0",
   "metadata": {},
   "outputs": [
    {
     "data": {
      "image/png": "[encoded data removed]",
      "text/plain": [
       "<Figure size 432x288 with 1 Axes>"
      ]
     },
     "metadata": {
      "needs_background": "light"
     },
     "output_type": "display_data"
    },
    {
     "data": {
      "image/png": "[encoded data removed]",
      "text/plain": [
       "<Figure size 432x288 with 1 Axes>"
      ]
     },
     "metadata": {
      "needs_background": "light"
     },
     "output_type": "display_data"
    }
   ],
   "source": [
    "epochs = range(1, len(acc) + 1)\n",
    "\n",
    "plt.plot(epochs, acc, 'm*-', label= 'Eğitim Başarımı')\n",
    "plt.plot(epochs, val_acc, 'g*-', label= 'Doğrulama / Geçerleme Başarımı')\n",
    "plt.title('Eğitim ve Doğrulama için Başarım')\n",
    "plt. legend()\n",
    "\n",
    "plt.figure()\n",
    "\n",
    "plt.plot(epochs, loss, 'm*-', label= 'Eğitim Kaybı')\n",
    "plt.plot(epochs, val_loss, 'g*-', label= 'Doğrulama / Geçerleme Kaybı')\n",
    "plt.title('Eğitim ve Doğrulama için Kayıp')\n",
    "plt. legend()\n",
    "\n",
    "plt.show()"
   ]
  },
  {
   "cell_type": "code",
   "execution_count": 1165,
   "id": "5cb58224",
   "metadata": {},
   "outputs": [
    {
     "name": "stdout",
     "output_type": "stream",
     "text": [
      "[0.9067796468734741, 0.9067796468734741] eğitim başarımları\n"
     ]
    }
   ],
   "source": [
    "print(acc, 'eğitim başarımları')"
   ]
  },
  {
   "cell_type": "code",
   "execution_count": 1166,
   "id": "ca3cd77a",
   "metadata": {
    "scrolled": true
   },
   "outputs": [
    {
     "name": "stdout",
     "output_type": "stream",
     "text": [
      "24/24 [==============================] - 0s 17ms/step\n"
     ]
    }
   ],
   "source": [
    "y_pred = np.argmax(model.predict(seq_array),axis=1)# model.predict_classes(seq_array,verbose=1, batch_size=100) \n",
    "y_true = np.argmax(label_array,axis=1)"
   ]
  },
  {
   "attachments": {
    "image.png": {
     "image/png": "[encoded data removed]"
    }
   },
   "cell_type": "markdown",
   "id": "a020c21e",
   "metadata": {},
   "source": [
    "# Confusion matrix\n",
    "# https://www.veribilimiokulu.com/hata-matrisini-confusion-matrix-yorumlama/\n",
    "![image.png](attachment:image.png)\n"
   ]
  },
  {
   "cell_type": "code",
   "execution_count": 1167,
   "id": "84851746",
   "metadata": {},
   "outputs": [
    {
     "name": "stdout",
     "output_type": "stream",
     "text": [
      "Confusion matrix\n",
      "- x-axis is true labels.\n",
      "- y-axis is predicted labels\n"
     ]
    },
    {
     "data": {
      "text/plain": [
       "array([[639,  35],\n",
       "       [ 11,  53]], dtype=int64)"
      ]
     },
     "execution_count": 1167,
     "metadata": {},
     "output_type": "execute_result"
    }
   ],
   "source": [
    "print('Confusion matrix\\n- x-axis is true labels.\\n- y-axis is predicted labels')\n",
    "cm = confusion_matrix(y_true, y_pred)\n",
    "cm"
   ]
  },
  {
   "cell_type": "code",
   "execution_count": 1168,
   "id": "0fc038b3",
   "metadata": {},
   "outputs": [],
   "source": [
    "# Accuracy   = 𝐷𝑜ğ𝑟𝑢𝑙𝑢𝑘 \t\t= (TP+TN)/(TP+TN+FP+FN) \t\t(19)\n",
    "# Precision  = 𝐻𝑎𝑠𝑠𝑎𝑠𝑖𝑦𝑒𝑡  \t\t= TP/( TP+FP)\t\t\t(20)\n",
    "# Recall     = 𝐻𝑎𝑡𝚤𝑟𝑙𝑎𝑚𝑎 \t\t= TP/( TP+FN)\t\t\t(21)\n",
    "# 𝐹1−𝑠𝑘𝑜𝑟𝑢 \t\t=2×(Hassasiyet×Hatırlama )/( Hassasiyet+Hatırlama)  \t(22)\n"
   ]
  },
  {
   "cell_type": "code",
   "execution_count": 1169,
   "id": "003d8240",
   "metadata": {},
   "outputs": [
    {
     "name": "stdout",
     "output_type": "stream",
     "text": [
      "precision =  0.6022727272727273 \n",
      " recall =  0.828125\n"
     ]
    }
   ],
   "source": [
    "precision = precision_score(y_true, y_pred)\n",
    "recall = recall_score(y_true, y_pred)\n",
    "print( 'precision = ', precision, '\\n', 'recall = ', recall)"
   ]
  },
  {
   "cell_type": "code",
   "execution_count": 1170,
   "id": "1ef27875",
   "metadata": {},
   "outputs": [
    {
     "data": {
      "text/plain": [
       "['scaler.save']"
      ]
     },
     "execution_count": 1170,
     "metadata": {},
     "output_type": "execute_result"
    }
   ],
   "source": [
    "import joblib\n",
    "scaler_filename = \"scaler.save\"\n",
    "joblib.dump(min_max_scaler, scaler_filename) "
   ]
  },
  {
   "cell_type": "code",
   "execution_count": 1171,
   "id": "3a79e433",
   "metadata": {},
   "outputs": [],
   "source": [
    "model.save('lstm.h5') # sadece model agirliksiz\n",
    "model.save_weights('lstmWeight.h5') # sadece agiriik ve modelsiz"
   ]
  },
  {
   "cell_type": "code",
   "execution_count": 1172,
   "id": "8ff9087e",
   "metadata": {
    "scrolled": true
   },
   "outputs": [
    {
     "name": "stdout",
     "output_type": "stream",
     "text": [
      "(1, 8, 32)\n",
      "1/1 [==============================] - 0s 30ms/step\n",
      "[[0.57667947 0.42332056]]\n",
      "1/1 [==============================] - 0s 34ms/step\n",
      "0\n"
     ]
    }
   ],
   "source": [
    "print(seq_array[:1].shape)\n",
    "print(model.predict(seq_array[:1]))\n",
    "y_pred = np.argmax(model.predict(seq_array[:1]))\n",
    "print(y_pred)"
   ]
  },
  {
   "cell_type": "code",
   "execution_count": null,
   "id": "a4ced1aa",
   "metadata": {},
   "outputs": [],
   "source": []
  },
  {
   "cell_type": "markdown",
   "id": "39ffd23e",
   "metadata": {},
   "source": [
    "# TEST \n",
    "(MEVCUT SCALE WEIGHT VE MODEL ILE (HAFIZADAN ALINMADAN EGITIMDEKI DEGERLERLE)"
   ]
  },
  {
   "cell_type": "code",
   "execution_count": null,
   "id": "8beda711",
   "metadata": {},
   "outputs": [],
   "source": []
  },
  {
   "cell_type": "code",
   "execution_count": 1173,
   "id": "15b7a89d",
   "metadata": {
    "scrolled": true
   },
   "outputs": [
    {
     "name": "stdout",
     "output_type": "stream",
     "text": [
      "OK sinyal adet  289\n",
      "NOK sinyal adet  0\n",
      "TOPLAM sinyal adet  (245, 38)\n"
     ]
    },
    {
     "name": "stderr",
     "output_type": "stream",
     "text": [
      "C:\\Users\\ayhan.ozturk\\AppData\\Local\\Temp\\ipykernel_876\\3102455941.py:33: FutureWarning: Calling a ufunc on non-aligned DataFrames (or DataFrame/Series combination). Currently, the indices are ignored and the result takes the index/columns of the first DataFrame. In the future , the DataFrames/Series will be aligned before applying the ufunc.\n",
      "Convert one of the arguments to a NumPy array (eg 'ufunc(df1, np.asarray(df2)') to keep the current behaviour, or align manually (eg 'df1, df2 = df1.align(df2)') before passing to the ufunc to obtain the future behaviour and silence this warning.\n",
      "  test_data = test_data.iloc[np.where(np.logical_and(test_data['label1'] ==1,test_data['label2'] ==0 ))[0]]\n"
     ]
    }
   ],
   "source": [
    "#**********************\n",
    "# belli araligi alma\n",
    "# w0 = '2023-02-01T00:00:00.359'\n",
    "# w1 = '2023-02-08T23:59:00.359'\n",
    "# testArea = data.iloc[np.where(np.logical_and(data.index < pd.to_datetime(w0), data.index<= pd.to_datetime(w1)))]\n",
    "\n",
    "test_data = data.copy() # tumunu aldık x araligi ok y aralıgi nok diyebiliyoruz\n",
    "# test_data = data.iloc[np.where(np.logical_and(data['createdAt']>=w0, data['createdAt']<=w1))].copy() bu olsaydı belli bir araligi alacaktik ama farklı olan x ve y araligin, alamayacaktik\n",
    "\n",
    "# hatasiz ariza yok label 1 ve degeri 1\n",
    "w0_test = '2023-06-01T00:00:00.359'\n",
    "w1_test = '2023-09-22T23:59:00.359'\n",
    "\n",
    "# w0_test = '2023-09-23T07:33:00.359' #23.09.2023  07:32:19\n",
    "# w1_test = '2023-10-02T05:59:59.359'\n",
    "\n",
    "# w0_test = '2023-10-02T06:00:00.359'\n",
    "# w1_test = '2023-10-02T23:59:00.359'\n",
    "\n",
    "test_data['label1'] = np.where(np.logical_and(test_data['createdAt']>=w0_test, test_data['createdAt']<=w1_test), 1, 0)\n",
    "print(\"OK sinyal adet \",test_data.iloc[np.where(test_data['label1'] ==1)].shape[0])\n",
    "\n",
    "# hatali ariza var label 2 ve degeri 1\n",
    "\n",
    "test_data['label2'] = np.where(np.logical_and(test_data['createdAt']>=w0_test, test_data['createdAt']<=w1_test), 0, 0)\n",
    "print(\"NOK sinyal adet \",test_data.iloc[np.where(test_data['label2'] ==1)].shape[0])\n",
    "\n",
    "test_data = test_data.iloc[:, 8:]\n",
    "\n",
    "test_data.dropna(inplace=True)\n",
    "\n",
    "# hatali ve arizali olan tarihler bilestirilir\n",
    "test_data = test_data.iloc[np.where(np.logical_and(test_data['label1'] ==1,test_data['label2'] ==0 ))[0]]\n",
    "print(\"TOPLAM sinyal adet \",test_data.shape)"
   ]
  },
  {
   "cell_type": "code",
   "execution_count": 1174,
   "id": "9438e011",
   "metadata": {},
   "outputs": [
    {
     "name": "stdout",
     "output_type": "stream",
     "text": [
      "DataFrame is written to Excel File successfully.\n"
     ]
    }
   ],
   "source": [
    "datatoexcel = pd.ExcelWriter('datasetTest.xlsx')\n",
    "test_data.to_excel(datatoexcel)\n",
    "datatoexcel.save()\n",
    "print('DataFrame is written to Excel File successfully.')"
   ]
  },
  {
   "cell_type": "code",
   "execution_count": 1175,
   "id": "56f47f6d",
   "metadata": {},
   "outputs": [
    {
     "name": "stderr",
     "output_type": "stream",
     "text": [
      "C:\\Users\\ayhan.ozturk\\.conda\\envs\\udemy\\lib\\site-packages\\sklearn\\utils\\validation.py:1688: FutureWarning: Feature names only support names that are all strings. Got feature names with dtypes: ['tuple']. An error will be raised in 1.2.\n",
      "  warnings.warn(\n",
      "C:\\Users\\ayhan.ozturk\\.conda\\envs\\udemy\\lib\\site-packages\\sklearn\\utils\\validation.py:1688: FutureWarning: Feature names only support names that are all strings. Got feature names with dtypes: ['tuple']. An error will be raised in 1.2.\n",
      "  warnings.warn(\n"
     ]
    },
    {
     "data": {
      "text/html": [
       "<div>\n",
       "<style scoped>\n",
       "    .dataframe tbody tr th:only-of-type {\n",
       "        vertical-align: middle;\n",
       "    }\n",
       "\n",
       "    .dataframe tbody tr th {\n",
       "        vertical-align: top;\n",
       "    }\n",
       "\n",
       "    .dataframe thead tr th {\n",
       "        text-align: left;\n",
       "    }\n",
       "\n",
       "    .dataframe thead tr:last-of-type th {\n",
       "        text-align: right;\n",
       "    }\n",
       "</style>\n",
       "<table border=\"1\" class=\"dataframe\">\n",
       "  <thead>\n",
       "    <tr>\n",
       "      <th></th>\n",
       "      <th>TEMPERATURE</th>\n",
       "      <th>CLEARANCE_1</th>\n",
       "      <th>CLEARANCE_2</th>\n",
       "      <th>CLEARANCE_3</th>\n",
       "      <th>CREST_1</th>\n",
       "      <th>CREST_2</th>\n",
       "      <th>CREST_3</th>\n",
       "      <th>GRMS_1</th>\n",
       "      <th>GRMS_2</th>\n",
       "      <th>GRMS_3</th>\n",
       "      <th>...</th>\n",
       "      <th>0_Data</th>\n",
       "      <th>1_Data</th>\n",
       "      <th>3_Data</th>\n",
       "      <th>4_Data</th>\n",
       "      <th>5_Data</th>\n",
       "      <th>6_Data</th>\n",
       "      <th>7_Data</th>\n",
       "      <th>8_Data</th>\n",
       "      <th>label1</th>\n",
       "      <th>label2</th>\n",
       "    </tr>\n",
       "    <tr>\n",
       "      <th>(createdAt,)</th>\n",
       "      <th></th>\n",
       "      <th></th>\n",
       "      <th></th>\n",
       "      <th></th>\n",
       "      <th></th>\n",
       "      <th></th>\n",
       "      <th></th>\n",
       "      <th></th>\n",
       "      <th></th>\n",
       "      <th></th>\n",
       "      <th></th>\n",
       "      <th></th>\n",
       "      <th></th>\n",
       "      <th></th>\n",
       "      <th></th>\n",
       "      <th></th>\n",
       "      <th></th>\n",
       "      <th></th>\n",
       "      <th></th>\n",
       "      <th></th>\n",
       "      <th></th>\n",
       "    </tr>\n",
       "  </thead>\n",
       "  <tbody>\n",
       "    <tr>\n",
       "      <th>2023-06-22 21:35:40.735</th>\n",
       "      <td>0.688577</td>\n",
       "      <td>0.091115</td>\n",
       "      <td>0.192251</td>\n",
       "      <td>0.153541</td>\n",
       "      <td>0.126905</td>\n",
       "      <td>0.136504</td>\n",
       "      <td>0.231633</td>\n",
       "      <td>0.244451</td>\n",
       "      <td>0.116538</td>\n",
       "      <td>0.063801</td>\n",
       "      <td>...</td>\n",
       "      <td>0.875346</td>\n",
       "      <td>0.618221</td>\n",
       "      <td>0.0</td>\n",
       "      <td>0.0</td>\n",
       "      <td>0.580212</td>\n",
       "      <td>0.0</td>\n",
       "      <td>0.000228</td>\n",
       "      <td>0.0</td>\n",
       "      <td>0.0</td>\n",
       "      <td>0.0</td>\n",
       "    </tr>\n",
       "    <tr>\n",
       "      <th>2023-06-23 07:22:25.521</th>\n",
       "      <td>0.521378</td>\n",
       "      <td>0.109901</td>\n",
       "      <td>0.356817</td>\n",
       "      <td>0.330648</td>\n",
       "      <td>0.155877</td>\n",
       "      <td>0.310197</td>\n",
       "      <td>0.632222</td>\n",
       "      <td>0.209759</td>\n",
       "      <td>0.147162</td>\n",
       "      <td>0.057688</td>\n",
       "      <td>...</td>\n",
       "      <td>0.670360</td>\n",
       "      <td>0.531453</td>\n",
       "      <td>0.0</td>\n",
       "      <td>0.0</td>\n",
       "      <td>0.518021</td>\n",
       "      <td>0.0</td>\n",
       "      <td>0.067954</td>\n",
       "      <td>0.0</td>\n",
       "      <td>0.0</td>\n",
       "      <td>0.0</td>\n",
       "    </tr>\n",
       "    <tr>\n",
       "      <th>2023-06-23 20:01:39.441</th>\n",
       "      <td>0.684110</td>\n",
       "      <td>0.172860</td>\n",
       "      <td>0.308329</td>\n",
       "      <td>0.191291</td>\n",
       "      <td>0.260326</td>\n",
       "      <td>0.248745</td>\n",
       "      <td>0.347829</td>\n",
       "      <td>0.270125</td>\n",
       "      <td>0.189682</td>\n",
       "      <td>0.106436</td>\n",
       "      <td>...</td>\n",
       "      <td>0.950139</td>\n",
       "      <td>0.737527</td>\n",
       "      <td>0.0</td>\n",
       "      <td>0.0</td>\n",
       "      <td>0.897527</td>\n",
       "      <td>0.0</td>\n",
       "      <td>1.000000</td>\n",
       "      <td>0.0</td>\n",
       "      <td>0.0</td>\n",
       "      <td>0.0</td>\n",
       "    </tr>\n",
       "    <tr>\n",
       "      <th>2023-06-23 20:31:48.159</th>\n",
       "      <td>0.666241</td>\n",
       "      <td>0.040876</td>\n",
       "      <td>0.052597</td>\n",
       "      <td>0.149317</td>\n",
       "      <td>0.070166</td>\n",
       "      <td>0.059954</td>\n",
       "      <td>0.282700</td>\n",
       "      <td>0.856536</td>\n",
       "      <td>0.708512</td>\n",
       "      <td>0.703125</td>\n",
       "      <td>...</td>\n",
       "      <td>0.764543</td>\n",
       "      <td>0.867679</td>\n",
       "      <td>0.0</td>\n",
       "      <td>0.0</td>\n",
       "      <td>0.029682</td>\n",
       "      <td>0.0</td>\n",
       "      <td>0.000398</td>\n",
       "      <td>0.0</td>\n",
       "      <td>0.0</td>\n",
       "      <td>0.0</td>\n",
       "    </tr>\n",
       "    <tr>\n",
       "      <th>2023-06-23 21:31:17.219</th>\n",
       "      <td>0.661136</td>\n",
       "      <td>0.057171</td>\n",
       "      <td>0.025973</td>\n",
       "      <td>0.130724</td>\n",
       "      <td>0.066797</td>\n",
       "      <td>0.015972</td>\n",
       "      <td>0.242993</td>\n",
       "      <td>0.739939</td>\n",
       "      <td>0.681247</td>\n",
       "      <td>0.404942</td>\n",
       "      <td>...</td>\n",
       "      <td>0.747922</td>\n",
       "      <td>0.590022</td>\n",
       "      <td>0.0</td>\n",
       "      <td>0.0</td>\n",
       "      <td>0.045230</td>\n",
       "      <td>0.0</td>\n",
       "      <td>0.000090</td>\n",
       "      <td>0.0</td>\n",
       "      <td>0.0</td>\n",
       "      <td>0.0</td>\n",
       "    </tr>\n",
       "  </tbody>\n",
       "</table>\n",
       "<p>5 rows × 38 columns</p>\n",
       "</div>"
      ],
      "text/plain": [
       "                        TEMPERATURE CLEARANCE_1 CLEARANCE_2 CLEARANCE_3  \\\n",
       "(createdAt,)                                                              \n",
       "2023-06-22 21:35:40.735    0.688577    0.091115    0.192251    0.153541   \n",
       "2023-06-23 07:22:25.521    0.521378    0.109901    0.356817    0.330648   \n",
       "2023-06-23 20:01:39.441    0.684110    0.172860    0.308329    0.191291   \n",
       "2023-06-23 20:31:48.159    0.666241    0.040876    0.052597    0.149317   \n",
       "2023-06-23 21:31:17.219    0.661136    0.057171    0.025973    0.130724   \n",
       "\n",
       "                          CREST_1   CREST_2   CREST_3    GRMS_1    GRMS_2  \\\n",
       "(createdAt,)                                                                \n",
       "2023-06-22 21:35:40.735  0.126905  0.136504  0.231633  0.244451  0.116538   \n",
       "2023-06-23 07:22:25.521  0.155877  0.310197  0.632222  0.209759  0.147162   \n",
       "2023-06-23 20:01:39.441  0.260326  0.248745  0.347829  0.270125  0.189682   \n",
       "2023-06-23 20:31:48.159  0.070166  0.059954  0.282700  0.856536  0.708512   \n",
       "2023-06-23 21:31:17.219  0.066797  0.015972  0.242993  0.739939  0.681247   \n",
       "\n",
       "                           GRMS_3  ...    0_Data    1_Data 3_Data 4_Data  \\\n",
       "(createdAt,)                       ...                                     \n",
       "2023-06-22 21:35:40.735  0.063801  ...  0.875346  0.618221    0.0    0.0   \n",
       "2023-06-23 07:22:25.521  0.057688  ...  0.670360  0.531453    0.0    0.0   \n",
       "2023-06-23 20:01:39.441  0.106436  ...  0.950139  0.737527    0.0    0.0   \n",
       "2023-06-23 20:31:48.159  0.703125  ...  0.764543  0.867679    0.0    0.0   \n",
       "2023-06-23 21:31:17.219  0.404942  ...  0.747922  0.590022    0.0    0.0   \n",
       "\n",
       "                           5_Data 6_Data    7_Data 8_Data label1 label2  \n",
       "(createdAt,)                                                             \n",
       "2023-06-22 21:35:40.735  0.580212    0.0  0.000228    0.0    0.0    0.0  \n",
       "2023-06-23 07:22:25.521  0.518021    0.0  0.067954    0.0    0.0    0.0  \n",
       "2023-06-23 20:01:39.441  0.897527    0.0  1.000000    0.0    0.0    0.0  \n",
       "2023-06-23 20:31:48.159  0.029682    0.0  0.000398    0.0    0.0    0.0  \n",
       "2023-06-23 21:31:17.219  0.045230    0.0  0.000090    0.0    0.0    0.0  \n",
       "\n",
       "[5 rows x 38 columns]"
      ]
     },
     "execution_count": 1175,
     "metadata": {},
     "output_type": "execute_result"
    }
   ],
   "source": [
    "cols_normalize_test = train_data.columns\n",
    "\n",
    "\n",
    "import joblib\n",
    "scaler_filename = \"scaler.save\"\n",
    "min_max_scaler_test = joblib.load(scaler_filename) \n",
    "\n",
    "norm_train_df_test = pd.DataFrame(min_max_scaler_test.fit_transform(test_data[cols_normalize_test]), \n",
    "                             columns=cols_normalize_test, \n",
    "                             index=test_data.index)\n",
    "join_df_test = test_data[test_data.columns.difference(cols_normalize_test)].join(norm_train_df_test)\n",
    "test_df = join_df_test.reindex(columns = test_data.columns)\n",
    "test_df.dropna(inplace=True)\n",
    "test_df.head()"
   ]
  },
  {
   "cell_type": "code",
   "execution_count": 1176,
   "id": "20931079",
   "metadata": {},
   "outputs": [
    {
     "data": {
      "text/plain": [
       "245"
      ]
     },
     "execution_count": 1176,
     "metadata": {},
     "output_type": "execute_result"
    }
   ],
   "source": [
    "test_df.shape[0]"
   ]
  },
  {
   "cell_type": "code",
   "execution_count": 1177,
   "id": "fd8f6db3",
   "metadata": {},
   "outputs": [
    {
     "data": {
      "text/plain": [
       "(237, 8, 32)"
      ]
     },
     "execution_count": 1177,
     "metadata": {},
     "output_type": "execute_result"
    }
   ],
   "source": [
    "seq_gen_test = (list(gen_sequence(test_df, sequence_length, cols1))\n",
    "                     for id in range(1,2))\n",
    "\n",
    "seq_array_test = np.concatenate(list(seq_gen_test)).astype(np.float32)\n",
    "seq_array_test.shape"
   ]
  },
  {
   "cell_type": "code",
   "execution_count": 1178,
   "id": "3d5f9b12",
   "metadata": {},
   "outputs": [
    {
     "data": {
      "text/plain": [
       "(237, 2)"
      ]
     },
     "execution_count": 1178,
     "metadata": {},
     "output_type": "execute_result"
    }
   ],
   "source": [
    "label_gen_test = [gen_labels(test_df, sequence_length, ['label1','label2']) \n",
    "             for id in range(1,2)]\n",
    "\n",
    "label_array_test = np.concatenate(label_gen_test).astype(np.float32)\n",
    "\n",
    "label_array_test.shape"
   ]
  },
  {
   "cell_type": "code",
   "execution_count": 1179,
   "id": "38fdb31d",
   "metadata": {},
   "outputs": [
    {
     "name": "stdout",
     "output_type": "stream",
     "text": [
      "8/8 [==============================] - 0s 19ms/step\n"
     ]
    }
   ],
   "source": [
    "y_pred_test = np.argmax(model.predict(seq_array_test),axis=1) # model.predict_classes(seq_array,verbose=1, batch_size=100) "
   ]
  },
  {
   "cell_type": "code",
   "execution_count": 1180,
   "id": "35fc0f29",
   "metadata": {},
   "outputs": [],
   "source": [
    "y_true_test = np.argmax(label_array_test,axis=1)"
   ]
  },
  {
   "cell_type": "code",
   "execution_count": 1181,
   "id": "204c3afd",
   "metadata": {
    "scrolled": true
   },
   "outputs": [
    {
     "data": {
      "text/plain": [
       "array([0, 0, 0, 0, 0, 0, 0, 0, 0, 0, 0, 0, 0, 0, 0, 0, 0, 0, 0, 0, 0, 0,\n",
       "       0, 0, 0, 0, 0, 0, 0, 0, 0, 0, 0, 0, 0, 0, 0, 0, 0, 0, 0, 0, 0, 0,\n",
       "       0, 0, 0, 0, 0, 0, 0, 0, 0, 0, 0, 0, 0, 0, 0, 0, 0, 0, 0, 0, 0, 0,\n",
       "       0, 0, 0, 0, 0, 0, 0, 0, 0, 0, 0, 0, 0, 0, 0, 0, 0, 0, 0, 0, 0, 0,\n",
       "       0, 0, 0, 0, 0, 0, 0, 0, 0, 0, 0, 0, 0, 0, 0, 0, 0, 0, 0, 0, 0, 0,\n",
       "       0, 0, 0, 0, 0, 0, 0, 0, 0, 0, 0, 0, 0, 0, 0, 0, 0, 0, 0, 0, 0, 0,\n",
       "       0, 0, 0, 0, 0, 0, 0, 0, 0, 0, 0, 0, 0, 0, 0, 0, 0, 0, 0, 0, 0, 0,\n",
       "       0, 0, 0, 0, 0, 0, 0, 0, 0, 0, 0, 0, 0, 0, 0, 0, 0, 0, 0, 0, 0, 0,\n",
       "       0, 0, 0, 0, 0, 0, 0, 0, 0, 0, 0, 0, 0, 0, 0, 0, 0, 0, 0, 0, 0, 0,\n",
       "       0, 0, 0, 0, 0, 0, 0, 0, 0, 0, 0, 0, 0, 0, 0, 0, 0, 0, 0, 0, 0, 0,\n",
       "       0, 0, 0, 0, 0, 0, 0, 0, 0, 0, 0, 0, 0, 0, 0, 0, 0], dtype=int64)"
      ]
     },
     "execution_count": 1181,
     "metadata": {},
     "output_type": "execute_result"
    }
   ],
   "source": [
    "y_pred_test"
   ]
  },
  {
   "cell_type": "code",
   "execution_count": 1182,
   "id": "eba230ec",
   "metadata": {},
   "outputs": [
    {
     "data": {
      "text/plain": [
       "array([0, 0, 0, 0, 0, 0, 0, 0, 0, 0, 0, 0, 0, 0, 0, 0, 0, 0, 0, 0, 0, 0,\n",
       "       0, 0, 0, 0, 0, 0, 0, 0, 0, 0, 0, 0, 0, 0, 0, 0, 0, 0, 0, 0, 0, 0,\n",
       "       0, 0, 0, 0, 0, 0, 0, 0, 0, 0, 0, 0, 0, 0, 0, 0, 0, 0, 0, 0, 0, 0,\n",
       "       0, 0, 0, 0, 0, 0, 0, 0, 0, 0, 0, 0, 0, 0, 0, 0, 0, 0, 0, 0, 0, 0,\n",
       "       0, 0, 0, 0, 0, 0, 0, 0, 0, 0, 0, 0, 0, 0, 0, 0, 0, 0, 0, 0, 0, 0,\n",
       "       0, 0, 0, 0, 0, 0, 0, 0, 0, 0, 0, 0, 0, 0, 0, 0, 0, 0, 0, 0, 0, 0,\n",
       "       0, 0, 0, 0, 0, 0, 0, 0, 0, 0, 0, 0, 0, 0, 0, 0, 0, 0, 0, 0, 0, 0,\n",
       "       0, 0, 0, 0, 0, 0, 0, 0, 0, 0, 0, 0, 0, 0, 0, 0, 0, 0, 0, 0, 0, 0,\n",
       "       0, 0, 0, 0, 0, 0, 0, 0, 0, 0, 0, 0, 0, 0, 0, 0, 0, 0, 0, 0, 0, 0,\n",
       "       0, 0, 0, 0, 0, 0, 0, 0, 0, 0, 0, 0, 0, 0, 0, 0, 0, 0, 0, 0, 0, 0,\n",
       "       0, 0, 0, 0, 0, 0, 0, 0, 0, 0, 0, 0, 0, 0, 0, 0, 0], dtype=int64)"
      ]
     },
     "execution_count": 1182,
     "metadata": {},
     "output_type": "execute_result"
    }
   ],
   "source": [
    "y_true_test"
   ]
  },
  {
   "cell_type": "code",
   "execution_count": 1183,
   "id": "d8320e3d",
   "metadata": {},
   "outputs": [
    {
     "name": "stdout",
     "output_type": "stream",
     "text": [
      "0: 237\n"
     ]
    }
   ],
   "source": [
    "# initializing dict to store frequency of each element\n",
    "elements_count = {}\n",
    "# iterating over the elements for frequency\n",
    "for element in y_pred_test:\n",
    "   # checking whether it is in the dict or not\n",
    "   if element in elements_count:\n",
    "      # incerementing the count by 1\n",
    "      elements_count[element] += 1\n",
    "   else:\n",
    "      # setting the count to 1\n",
    "      elements_count[element] = 1\n",
    "# printing the elements frequencies\n",
    "for key, value in elements_count.items():\n",
    "   print(f\"{key}: {value}\")"
   ]
  },
  {
   "cell_type": "code",
   "execution_count": null,
   "id": "477cb1a7",
   "metadata": {},
   "outputs": [],
   "source": []
  },
  {
   "cell_type": "markdown",
   "id": "3791cc89",
   "metadata": {},
   "source": [
    "# TEST -2\n",
    "(MEVCUT SCALE WEIGHT VE MODEL ILE (HAFIZADAN ALINMADAN EGITIMDEKI DEGERLERLE)"
   ]
  },
  {
   "cell_type": "code",
   "execution_count": 1184,
   "id": "adb47a8d",
   "metadata": {},
   "outputs": [
    {
     "name": "stdout",
     "output_type": "stream",
     "text": [
      "OK sinyal adet  72\n",
      "NOK sinyal adet  0\n",
      "TOPLAM sinyal adet  (72, 38)\n"
     ]
    },
    {
     "name": "stderr",
     "output_type": "stream",
     "text": [
      "C:\\Users\\ayhan.ozturk\\AppData\\Local\\Temp\\ipykernel_876\\3005531623.py:33: FutureWarning: Calling a ufunc on non-aligned DataFrames (or DataFrame/Series combination). Currently, the indices are ignored and the result takes the index/columns of the first DataFrame. In the future , the DataFrames/Series will be aligned before applying the ufunc.\n",
      "Convert one of the arguments to a NumPy array (eg 'ufunc(df1, np.asarray(df2)') to keep the current behaviour, or align manually (eg 'df1, df2 = df1.align(df2)') before passing to the ufunc to obtain the future behaviour and silence this warning.\n",
      "  test_dataNOK = test_dataNOK.iloc[np.where(np.logical_and(test_dataNOK['label1'] ==1,test_dataNOK['label2'] ==0 ))[0]]\n"
     ]
    }
   ],
   "source": [
    "#**********************\n",
    "# belli araligi alma\n",
    "# w0 = '2023-02-01T00:00:00.359'\n",
    "# w1 = '2023-02-08T23:59:00.359'\n",
    "# testArea = data.iloc[np.where(np.logical_and(data.index < pd.to_datetime(w0), data.index<= pd.to_datetime(w1)))]\n",
    "\n",
    "test_dataNOK = data.copy() # tumunu aldık x araligi ok y aralıgi nok diyebiliyoruz\n",
    "# test_dataNOK = data.iloc[np.where(np.logical_and(data['createdAt']>=w0, data['createdAt']<=w1))].copy() bu olsaydı belli bir araligi alacaktik ama farklı olan x ve y araligin, alamayacaktik\n",
    "\n",
    "# hatasiz ariza yok label 1 ve degeri 1\n",
    "# w0_testNOK = '2023-06-01T00:00:00.359'\n",
    "# w1_testNOK = '2023-09-22T23:59:00.359'\n",
    "\n",
    "w0_testNOK = '2023-09-23T07:33:00.359' #23.09.2023  07:32:19\n",
    "w1_testNOK = '2023-10-02T05:59:59.359'\n",
    "\n",
    "# w0_testNOK = '2023-10-02T06:00:00.359'\n",
    "# w1_testNOK = '2023-10-02T23:59:00.359'\n",
    "\n",
    "test_dataNOK['label1'] = np.where(np.logical_and(test_dataNOK['createdAt']>=w0_testNOK, test_dataNOK['createdAt']<=w1_testNOK), 1, 0)\n",
    "print(\"OK sinyal adet \",test_dataNOK.iloc[np.where(test_dataNOK['label1'] ==1)].shape[0])\n",
    "\n",
    "# hatali ariza var label 2 ve degeri 1\n",
    "\n",
    "test_dataNOK['label2'] = np.where(np.logical_and(test_dataNOK['createdAt']>=w0_testNOK, test_dataNOK['createdAt']<=w1_testNOK), 0, 0)\n",
    "print(\"NOK sinyal adet \",test_dataNOK.iloc[np.where(test_dataNOK['label2'] ==1)].shape[0])\n",
    "\n",
    "test_dataNOK = test_dataNOK.iloc[:, 8:]\n",
    "\n",
    "test_dataNOK.dropna(inplace=True)\n",
    "\n",
    "# hatali ve arizali olan tarihler bilestirilir\n",
    "test_dataNOK = test_dataNOK.iloc[np.where(np.logical_and(test_dataNOK['label1'] ==1,test_dataNOK['label2'] ==0 ))[0]]\n",
    "print(\"TOPLAM sinyal adet \",test_dataNOK.shape)"
   ]
  },
  {
   "cell_type": "code",
   "execution_count": 1185,
   "id": "cfb9c279",
   "metadata": {},
   "outputs": [
    {
     "name": "stdout",
     "output_type": "stream",
     "text": [
      "DataFrame is written to Excel File successfully.\n"
     ]
    }
   ],
   "source": [
    "datatoexcel = pd.ExcelWriter('datasetTestNOK.xlsx')\n",
    "test_dataNOK.to_excel(datatoexcel)\n",
    "datatoexcel.save()\n",
    "print('DataFrame is written to Excel File successfully.')"
   ]
  },
  {
   "cell_type": "code",
   "execution_count": 1186,
   "id": "1a50adb1",
   "metadata": {},
   "outputs": [
    {
     "name": "stderr",
     "output_type": "stream",
     "text": [
      "C:\\Users\\ayhan.ozturk\\.conda\\envs\\udemy\\lib\\site-packages\\sklearn\\utils\\validation.py:1688: FutureWarning: Feature names only support names that are all strings. Got feature names with dtypes: ['tuple']. An error will be raised in 1.2.\n",
      "  warnings.warn(\n",
      "C:\\Users\\ayhan.ozturk\\.conda\\envs\\udemy\\lib\\site-packages\\sklearn\\utils\\validation.py:1688: FutureWarning: Feature names only support names that are all strings. Got feature names with dtypes: ['tuple']. An error will be raised in 1.2.\n",
      "  warnings.warn(\n"
     ]
    },
    {
     "data": {
      "text/html": [
       "<div>\n",
       "<style scoped>\n",
       "    .dataframe tbody tr th:only-of-type {\n",
       "        vertical-align: middle;\n",
       "    }\n",
       "\n",
       "    .dataframe tbody tr th {\n",
       "        vertical-align: top;\n",
       "    }\n",
       "\n",
       "    .dataframe thead tr th {\n",
       "        text-align: left;\n",
       "    }\n",
       "\n",
       "    .dataframe thead tr:last-of-type th {\n",
       "        text-align: right;\n",
       "    }\n",
       "</style>\n",
       "<table border=\"1\" class=\"dataframe\">\n",
       "  <thead>\n",
       "    <tr>\n",
       "      <th></th>\n",
       "      <th>TEMPERATURE</th>\n",
       "      <th>CLEARANCE_1</th>\n",
       "      <th>CLEARANCE_2</th>\n",
       "      <th>CLEARANCE_3</th>\n",
       "      <th>CREST_1</th>\n",
       "      <th>CREST_2</th>\n",
       "      <th>CREST_3</th>\n",
       "      <th>GRMS_1</th>\n",
       "      <th>GRMS_2</th>\n",
       "      <th>GRMS_3</th>\n",
       "      <th>...</th>\n",
       "      <th>0_Data</th>\n",
       "      <th>1_Data</th>\n",
       "      <th>3_Data</th>\n",
       "      <th>4_Data</th>\n",
       "      <th>5_Data</th>\n",
       "      <th>6_Data</th>\n",
       "      <th>7_Data</th>\n",
       "      <th>8_Data</th>\n",
       "      <th>label1</th>\n",
       "      <th>label2</th>\n",
       "    </tr>\n",
       "    <tr>\n",
       "      <th>(createdAt,)</th>\n",
       "      <th></th>\n",
       "      <th></th>\n",
       "      <th></th>\n",
       "      <th></th>\n",
       "      <th></th>\n",
       "      <th></th>\n",
       "      <th></th>\n",
       "      <th></th>\n",
       "      <th></th>\n",
       "      <th></th>\n",
       "      <th></th>\n",
       "      <th></th>\n",
       "      <th></th>\n",
       "      <th></th>\n",
       "      <th></th>\n",
       "      <th></th>\n",
       "      <th></th>\n",
       "      <th></th>\n",
       "      <th></th>\n",
       "      <th></th>\n",
       "      <th></th>\n",
       "    </tr>\n",
       "  </thead>\n",
       "  <tbody>\n",
       "    <tr>\n",
       "      <th>2023-09-23 07:35:15.203</th>\n",
       "      <td>0.500829</td>\n",
       "      <td>0.049331</td>\n",
       "      <td>0.114338</td>\n",
       "      <td>0.091133</td>\n",
       "      <td>0.052453</td>\n",
       "      <td>0.236897</td>\n",
       "      <td>0.146415</td>\n",
       "      <td>0.252904</td>\n",
       "      <td>0.379393</td>\n",
       "      <td>0.173449</td>\n",
       "      <td>...</td>\n",
       "      <td>0.496994</td>\n",
       "      <td>0.551339</td>\n",
       "      <td>0.0</td>\n",
       "      <td>0.0</td>\n",
       "      <td>0.086654</td>\n",
       "      <td>0.0</td>\n",
       "      <td>0.029245</td>\n",
       "      <td>0.0</td>\n",
       "      <td>0.0</td>\n",
       "      <td>0.0</td>\n",
       "    </tr>\n",
       "    <tr>\n",
       "      <th>2023-09-23 07:53:05.861</th>\n",
       "      <td>0.491985</td>\n",
       "      <td>0.000000</td>\n",
       "      <td>0.373181</td>\n",
       "      <td>0.023411</td>\n",
       "      <td>0.002128</td>\n",
       "      <td>0.563173</td>\n",
       "      <td>0.062884</td>\n",
       "      <td>0.004660</td>\n",
       "      <td>0.006615</td>\n",
       "      <td>0.005921</td>\n",
       "      <td>...</td>\n",
       "      <td>0.494990</td>\n",
       "      <td>0.549107</td>\n",
       "      <td>0.0</td>\n",
       "      <td>0.0</td>\n",
       "      <td>0.090135</td>\n",
       "      <td>0.0</td>\n",
       "      <td>0.002047</td>\n",
       "      <td>0.0</td>\n",
       "      <td>0.0</td>\n",
       "      <td>0.0</td>\n",
       "    </tr>\n",
       "    <tr>\n",
       "      <th>2023-09-23 07:53:39.218</th>\n",
       "      <td>0.489773</td>\n",
       "      <td>0.064813</td>\n",
       "      <td>0.099216</td>\n",
       "      <td>0.052410</td>\n",
       "      <td>0.104728</td>\n",
       "      <td>0.213126</td>\n",
       "      <td>0.091394</td>\n",
       "      <td>0.240382</td>\n",
       "      <td>0.385146</td>\n",
       "      <td>0.174739</td>\n",
       "      <td>...</td>\n",
       "      <td>0.488978</td>\n",
       "      <td>0.544643</td>\n",
       "      <td>0.0</td>\n",
       "      <td>0.0</td>\n",
       "      <td>0.090909</td>\n",
       "      <td>0.0</td>\n",
       "      <td>0.000676</td>\n",
       "      <td>0.0</td>\n",
       "      <td>0.0</td>\n",
       "      <td>0.0</td>\n",
       "    </tr>\n",
       "    <tr>\n",
       "      <th>2023-09-23 07:54:26.014</th>\n",
       "      <td>0.490326</td>\n",
       "      <td>0.128078</td>\n",
       "      <td>0.103278</td>\n",
       "      <td>0.139346</td>\n",
       "      <td>0.185481</td>\n",
       "      <td>0.168560</td>\n",
       "      <td>0.221550</td>\n",
       "      <td>0.203750</td>\n",
       "      <td>0.351991</td>\n",
       "      <td>0.152534</td>\n",
       "      <td>...</td>\n",
       "      <td>0.913828</td>\n",
       "      <td>0.558036</td>\n",
       "      <td>0.0</td>\n",
       "      <td>0.0</td>\n",
       "      <td>0.084720</td>\n",
       "      <td>0.0</td>\n",
       "      <td>0.003337</td>\n",
       "      <td>0.0</td>\n",
       "      <td>0.0</td>\n",
       "      <td>0.0</td>\n",
       "    </tr>\n",
       "    <tr>\n",
       "      <th>2023-09-23 08:11:22.670</th>\n",
       "      <td>0.504699</td>\n",
       "      <td>0.098306</td>\n",
       "      <td>0.129670</td>\n",
       "      <td>0.108420</td>\n",
       "      <td>0.171806</td>\n",
       "      <td>0.245507</td>\n",
       "      <td>0.196524</td>\n",
       "      <td>0.232128</td>\n",
       "      <td>0.367832</td>\n",
       "      <td>0.170253</td>\n",
       "      <td>...</td>\n",
       "      <td>0.519038</td>\n",
       "      <td>0.571429</td>\n",
       "      <td>0.0</td>\n",
       "      <td>0.0</td>\n",
       "      <td>0.088201</td>\n",
       "      <td>0.0</td>\n",
       "      <td>0.197964</td>\n",
       "      <td>0.0</td>\n",
       "      <td>0.0</td>\n",
       "      <td>0.0</td>\n",
       "    </tr>\n",
       "  </tbody>\n",
       "</table>\n",
       "<p>5 rows × 38 columns</p>\n",
       "</div>"
      ],
      "text/plain": [
       "                        TEMPERATURE CLEARANCE_1 CLEARANCE_2 CLEARANCE_3  \\\n",
       "(createdAt,)                                                              \n",
       "2023-09-23 07:35:15.203    0.500829    0.049331    0.114338    0.091133   \n",
       "2023-09-23 07:53:05.861    0.491985    0.000000    0.373181    0.023411   \n",
       "2023-09-23 07:53:39.218    0.489773    0.064813    0.099216    0.052410   \n",
       "2023-09-23 07:54:26.014    0.490326    0.128078    0.103278    0.139346   \n",
       "2023-09-23 08:11:22.670    0.504699    0.098306    0.129670    0.108420   \n",
       "\n",
       "                          CREST_1   CREST_2   CREST_3    GRMS_1    GRMS_2  \\\n",
       "(createdAt,)                                                                \n",
       "2023-09-23 07:35:15.203  0.052453  0.236897  0.146415  0.252904  0.379393   \n",
       "2023-09-23 07:53:05.861  0.002128  0.563173  0.062884  0.004660  0.006615   \n",
       "2023-09-23 07:53:39.218  0.104728  0.213126  0.091394  0.240382  0.385146   \n",
       "2023-09-23 07:54:26.014  0.185481  0.168560  0.221550  0.203750  0.351991   \n",
       "2023-09-23 08:11:22.670  0.171806  0.245507  0.196524  0.232128  0.367832   \n",
       "\n",
       "                           GRMS_3  ...    0_Data    1_Data 3_Data 4_Data  \\\n",
       "(createdAt,)                       ...                                     \n",
       "2023-09-23 07:35:15.203  0.173449  ...  0.496994  0.551339    0.0    0.0   \n",
       "2023-09-23 07:53:05.861  0.005921  ...  0.494990  0.549107    0.0    0.0   \n",
       "2023-09-23 07:53:39.218  0.174739  ...  0.488978  0.544643    0.0    0.0   \n",
       "2023-09-23 07:54:26.014  0.152534  ...  0.913828  0.558036    0.0    0.0   \n",
       "2023-09-23 08:11:22.670  0.170253  ...  0.519038  0.571429    0.0    0.0   \n",
       "\n",
       "                           5_Data 6_Data    7_Data 8_Data label1 label2  \n",
       "(createdAt,)                                                             \n",
       "2023-09-23 07:35:15.203  0.086654    0.0  0.029245    0.0    0.0    0.0  \n",
       "2023-09-23 07:53:05.861  0.090135    0.0  0.002047    0.0    0.0    0.0  \n",
       "2023-09-23 07:53:39.218  0.090909    0.0  0.000676    0.0    0.0    0.0  \n",
       "2023-09-23 07:54:26.014  0.084720    0.0  0.003337    0.0    0.0    0.0  \n",
       "2023-09-23 08:11:22.670  0.088201    0.0  0.197964    0.0    0.0    0.0  \n",
       "\n",
       "[5 rows x 38 columns]"
      ]
     },
     "execution_count": 1186,
     "metadata": {},
     "output_type": "execute_result"
    }
   ],
   "source": [
    "cols_normalize_test = train_data.columns\n",
    "\n",
    "\n",
    "import joblib\n",
    "scaler_filename = \"scaler.save\"\n",
    "min_max_scaler_test = joblib.load(scaler_filename) \n",
    "\n",
    "norm_train_df_testNOK = pd.DataFrame(min_max_scaler_test.fit_transform(test_dataNOK[cols_normalize_test]), \n",
    "                             columns=cols_normalize_test, \n",
    "                             index=test_dataNOK.index)\n",
    "join_df_testNOK = test_dataNOK[test_dataNOK.columns.difference(cols_normalize_test)].join(norm_train_df_testNOK)\n",
    "test_dfNOK = join_df_testNOK.reindex(columns = test_dataNOK.columns)\n",
    "test_dfNOK.dropna(inplace=True)\n",
    "test_dfNOK.head()"
   ]
  },
  {
   "cell_type": "code",
   "execution_count": 1187,
   "id": "1dee2c92",
   "metadata": {},
   "outputs": [
    {
     "data": {
      "text/plain": [
       "72"
      ]
     },
     "execution_count": 1187,
     "metadata": {},
     "output_type": "execute_result"
    }
   ],
   "source": [
    "test_dfNOK.shape[0]"
   ]
  },
  {
   "cell_type": "code",
   "execution_count": 1188,
   "id": "d2b57bd2",
   "metadata": {},
   "outputs": [
    {
     "data": {
      "text/plain": [
       "(64, 8, 32)"
      ]
     },
     "execution_count": 1188,
     "metadata": {},
     "output_type": "execute_result"
    }
   ],
   "source": [
    "seq_gen_testNOK = (list(gen_sequence(test_dfNOK, sequence_length, cols1))\n",
    "                     for id in range(1,2))\n",
    "\n",
    "seq_array_testNOK = np.concatenate(list(seq_gen_testNOK)).astype(np.float32)\n",
    "seq_array_testNOK.shape"
   ]
  },
  {
   "cell_type": "code",
   "execution_count": 1189,
   "id": "935c2759",
   "metadata": {},
   "outputs": [
    {
     "data": {
      "text/plain": [
       "(64, 2)"
      ]
     },
     "execution_count": 1189,
     "metadata": {},
     "output_type": "execute_result"
    }
   ],
   "source": [
    "label_gen_testNOK = [gen_labels(test_dfNOK, sequence_length, ['label1','label2']) \n",
    "             for id in range(1,2)]\n",
    "\n",
    "label_array_testNOK = np.concatenate(label_gen_testNOK).astype(np.float32)\n",
    "\n",
    "label_array_testNOK.shape"
   ]
  },
  {
   "cell_type": "code",
   "execution_count": 1190,
   "id": "e63ec326",
   "metadata": {},
   "outputs": [
    {
     "name": "stdout",
     "output_type": "stream",
     "text": [
      "2/2 [==============================] - 0s 20ms/step\n"
     ]
    }
   ],
   "source": [
    "y_pred_testNOK = np.argmax(model.predict(seq_array_testNOK),axis=1) # model.predict_classes(seq_array,verbose=1, batch_size=100) "
   ]
  },
  {
   "cell_type": "code",
   "execution_count": 1191,
   "id": "81209185",
   "metadata": {},
   "outputs": [],
   "source": [
    "y_true_testNOK = np.argmax(label_array_testNOK,axis=1)"
   ]
  },
  {
   "cell_type": "code",
   "execution_count": 1192,
   "id": "6a02fa70",
   "metadata": {},
   "outputs": [
    {
     "data": {
      "text/plain": [
       "array([0, 0, 0, 1, 1, 1, 1, 1, 0, 1, 1, 1, 1, 1, 1, 1, 1, 1, 1, 1, 1, 1,\n",
       "       1, 1, 1, 1, 1, 1, 1, 1, 1, 1, 1, 1, 1, 1, 1, 1, 1, 1, 1, 1, 1, 1,\n",
       "       1, 1, 1, 1, 0, 0, 0, 0, 0, 0, 0, 1, 1, 1, 1, 1, 1, 0, 1, 1],\n",
       "      dtype=int64)"
      ]
     },
     "execution_count": 1192,
     "metadata": {},
     "output_type": "execute_result"
    }
   ],
   "source": [
    "y_pred_testNOK"
   ]
  },
  {
   "cell_type": "code",
   "execution_count": 1193,
   "id": "3ff365d5",
   "metadata": {},
   "outputs": [
    {
     "data": {
      "text/plain": [
       "array([0, 0, 0, 0, 0, 0, 0, 0, 0, 0, 0, 0, 0, 0, 0, 0, 0, 0, 0, 0, 0, 0,\n",
       "       0, 0, 0, 0, 0, 0, 0, 0, 0, 0, 0, 0, 0, 0, 0, 0, 0, 0, 0, 0, 0, 0,\n",
       "       0, 0, 0, 0, 0, 0, 0, 0, 0, 0, 0, 0, 0, 0, 0, 0, 0, 0, 0, 0],\n",
       "      dtype=int64)"
      ]
     },
     "execution_count": 1193,
     "metadata": {},
     "output_type": "execute_result"
    }
   ],
   "source": [
    "y_true_testNOK"
   ]
  },
  {
   "cell_type": "code",
   "execution_count": 1194,
   "id": "2e2400cd",
   "metadata": {},
   "outputs": [
    {
     "name": "stdout",
     "output_type": "stream",
     "text": [
      "0: 12\n",
      "1: 52\n"
     ]
    }
   ],
   "source": [
    "# initializing dict to store frequency of each element\n",
    "elements_countNOK = {}\n",
    "# iterating over the elements for frequency\n",
    "for element in y_pred_testNOK:\n",
    "   # checking whether it is in the dict or not\n",
    "   if element in elements_countNOK:\n",
    "      # incerementing the count by 1\n",
    "      elements_countNOK[element] += 1\n",
    "   else:\n",
    "      # setting the count to 1\n",
    "      elements_countNOK[element] = 1\n",
    "# printing the elements frequencies\n",
    "for key, value in elements_countNOK.items():\n",
    "   print(f\"{key}: {value}\")"
   ]
  },
  {
   "cell_type": "code",
   "execution_count": null,
   "id": "cfaa3309",
   "metadata": {},
   "outputs": [],
   "source": []
  },
  {
   "cell_type": "code",
   "execution_count": null,
   "id": "bb9af9c3",
   "metadata": {},
   "outputs": [],
   "source": []
  },
  {
   "cell_type": "code",
   "execution_count": null,
   "id": "491e8513",
   "metadata": {},
   "outputs": [],
   "source": []
  },
  {
   "cell_type": "code",
   "execution_count": null,
   "id": "50f16f94",
   "metadata": {},
   "outputs": [],
   "source": []
  }
 ],
 "metadata": {
  "kernelspec": {
   "display_name": "Python 3 (ipykernel)",
   "language": "python",
   "name": "python3"
  },
  "language_info": {
   "codemirror_mode": {
    "name": "ipython",
    "version": 3
   },
   "file_extension": ".py",
   "mimetype": "text/x-python",
   "name": "python",
   "nbconvert_exporter": "python",
   "pygments_lexer": "ipython3",
   "version": "3.8.13"
  }
 },
 "nbformat": 4,
 "nbformat_minor": 5
}
